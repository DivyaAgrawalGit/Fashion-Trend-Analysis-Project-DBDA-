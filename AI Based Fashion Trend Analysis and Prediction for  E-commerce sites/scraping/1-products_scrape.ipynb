{
 "cells": [
  {
   "cell_type": "code",
   "execution_count": 1,
   "metadata": {},
   "outputs": [],
   "source": [
    "import requests\n",
    "from bs4 import BeautifulSoup\n",
    "import pandas as pd\n",
    "def links(s,url):\n",
    "    r= requests.get(url)\n",
    "    #print (r)\n",
    "    soup = BeautifulSoup(r.text, \"html.parser\")\n",
    "    #print (soup)\n",
    "    #self: Tag, key: str, default: str |\n",
    "    l=[url]\n",
    "    np=soup.find(\"a\", class_=\"_1LKTO3\")\n",
    "    #print(np)\n",
    "    new_links=[]\n",
    "    c=0\n",
    "    while True:\n",
    "        if c==s:\n",
    "             break\n",
    "        r = requests.get(url)\n",
    "        soup=BeautifulSoup(r.text, \"lxml\")\n",
    "        np = soup.findAll(\"a\", class_=\"_1LKTO3\")\n",
    "        if np[-1].text.strip()!='Next':\n",
    "                next=i['href']\n",
    "                break\n",
    "        for i in np:\n",
    "            if i.text.strip()=='Next':\n",
    "                next=i['href']\n",
    "                break\n",
    "        cnp = \"https://www.flipkart.com\"+next\n",
    "        print(cnp)\n",
    "        l.append(cnp)\n",
    "        url = cnp\n",
    "        finder=soup.findAll('a',{'class':'_3bPFwb'})\n",
    "        c=c+1\n",
    "        for link in finder:\n",
    "             new_links.append(\"https://www.flipkart.com\"+link['href'])\n",
    "\n",
    "    return new_links"
   ]
  },
  {
   "cell_type": "code",
   "execution_count": 7,
   "metadata": {},
   "outputs": [],
   "source": [
    "import time\n",
    "def scrape_product_data(z,url):\n",
    "    headers = {\n",
    "        \"User-Agent\": \"Mozilla/5.0 (Windows NT 10.0; Win64; x64) AppleWebKit/537.36 (KHTML, like Gecko) Chrome/91.0.4472.124 Safari/537.36\"\n",
    "    }\n",
    "    df=pd.DataFrame({})\n",
    "    time.sleep(1)\n",
    "    response = requests.get(url, headers=headers)\n",
    "    if response.status_code == 200:\n",
    "        soup = BeautifulSoup(response.content, \"html.parser\")\n",
    "        \n",
    "        # Extracting title\n",
    "        title = soup.find(\"span\", {\"class\": \"B_NuCI\"})\n",
    "        if title:\n",
    "            title=title.text.strip()\n",
    "        # Extracting price\n",
    "        price = soup.find(\"div\", {\"class\": \"_30jeq3\"})\n",
    "        if price:\n",
    "            price=price.text.strip()\n",
    "        # Extracting ratings\n",
    "        ratings = soup.find(\"div\", {\"class\": \"_3LWZlK _3uSWvT\"})\n",
    "        if ratings:\n",
    "            ratings=ratings.text.strip()\n",
    "        # Extracting reviews\n",
    "        reviews = soup.find(\"span\", {\"class\": \"_2_R_DZ\"})\n",
    "        if reviews:\n",
    "            reviews=reviews.text.strip() \n",
    "        seller=soup.find('span',{'class':'G6XhRU'})\n",
    "        if seller:\n",
    "            seller=seller.text.strip()\n",
    "        data = {\n",
    "            'Title': [title],\n",
    "            'Price': [price],\n",
    "            'Rating': [ratings],\n",
    "            'Reviews': [reviews],\n",
    "            'Url':[url],\n",
    "            'Seller':[seller]\n",
    "        }\n",
    "        sep={}\n",
    "        dark=soup.findAll('div',{'class':'col col-3-12 _2H87wv'})\n",
    "        light=soup.findAll('div',{'class':'col col-9-12 _2vZqPX'})\n",
    "        for i in range(len(light)):\n",
    "            sep[dark[i].text.strip()]=light[i].text.strip()\n",
    "        data.update(sep)\n",
    "        df=pd.DataFrame(data)\n",
    "        df['Total details']=sep\n",
    "\n",
    "        print(z,url)\n",
    "    else:\n",
    "        print(\"Failed\",url)\n",
    "\n",
    "    return df\n"
   ]
  },
  {
   "cell_type": "code",
   "execution_count": 6,
   "metadata": {},
   "outputs": [
    {
     "name": "stdout",
     "output_type": "stream",
     "text": [
      "https://www.flipkart.com/search?q=SASSAFRAS&otracker=search&otracker1=search&marketplace=FLIPKART&as-show=on&as=off&page=2\n",
      "https://www.flipkart.com/search?q=SASSAFRAS&otracker=search&otracker1=search&marketplace=FLIPKART&as-show=on&as=off&page=3\n"
     ]
    }
   ],
   "source": [
    "url = \"\\\n",
    "https://www.flipkart.com/search?q=SASSAFRAS&otracker=search&otracker1=search&marketplace=FLIPKART&as-show=on&as=off\"\n",
    "l=links(25,url)\n",
    "i=0\n",
    "df=pd.DataFrame({})\n",
    "for link in l:\n",
    "    try:\n",
    "        i=i+1\n",
    "        df=pd.concat([df,scrape_product_data(i,link)])\n",
    "        #print(i)\n",
    "    except:\n",
    "        print('failed',i,link)\n",
    "        "
   ]
  },
  {
   "cell_type": "code",
   "execution_count": null,
   "metadata": {},
   "outputs": [],
   "source": [
    "df.to_csv('sassafrass.csv')"
   ]
  },
  {
   "cell_type": "code",
   "execution_count": 8,
   "metadata": {},
   "outputs": [
    {
     "name": "stdout",
     "output_type": "stream",
     "text": [
      "1 https://www.flipkart.com/sassafras-women-bodycon-beige-dress/p/itmc6c13e50c3751?pid=DREGWMEGRHXHHXR5&lid=LSTDREGWMEGRHXHHXR5NRMQ16&marketplace=FLIPKART&q=SASSAFRAS&store=search.flipkart.com&srno=s_1_3&otracker=search&otracker1=search&fm=organic&iid=04be320f-9de6-41ed-beb7-77ae990bb30f.DREGWMEGRHXHHXR5.SEARCH&ppt=None&ppn=None&ssid=3a2weofdc00000001708279636087&qH=911e6d426b9cde98\n"
     ]
    }
   ],
   "source": [
    "url='https://www.flipkart.com/sassafras-women-bodycon-beige-dress/p/itmc6c13e50c3751?pid=DREGWMEGRHXHHXR5&lid=LSTDREGWMEGRHXHHXR5NRMQ16&marketplace=FLIPKART&q=SASSAFRAS&store=search.flipkart.com&srno=s_1_3&otracker=search&otracker1=search&fm=organic&iid=04be320f-9de6-41ed-beb7-77ae990bb30f.DREGWMEGRHXHHXR5.SEARCH&ppt=None&ppn=None&ssid=3a2weofdc00000001708279636087&qH=911e6d426b9cde98'\n",
    "l=scrape_product_data(1,url)"
   ]
  },
  {
   "cell_type": "code",
   "execution_count": 9,
   "metadata": {},
   "outputs": [
    {
     "data": {
      "text/html": [
       "<div>\n",
       "<style scoped>\n",
       "    .dataframe tbody tr th:only-of-type {\n",
       "        vertical-align: middle;\n",
       "    }\n",
       "\n",
       "    .dataframe tbody tr th {\n",
       "        vertical-align: top;\n",
       "    }\n",
       "\n",
       "    .dataframe thead th {\n",
       "        text-align: right;\n",
       "    }\n",
       "</style>\n",
       "<table border=\"1\" class=\"dataframe\">\n",
       "  <thead>\n",
       "    <tr style=\"text-align: right;\">\n",
       "      <th></th>\n",
       "      <th>Title</th>\n",
       "      <th>Price</th>\n",
       "      <th>Rating</th>\n",
       "      <th>Reviews</th>\n",
       "      <th>Url</th>\n",
       "      <th>Seller</th>\n",
       "      <th>Color</th>\n",
       "      <th>Length</th>\n",
       "      <th>Fabric</th>\n",
       "      <th>Pattern</th>\n",
       "      <th>...</th>\n",
       "      <th>Type</th>\n",
       "      <th>Style Code</th>\n",
       "      <th>Suitable For</th>\n",
       "      <th>Sleeve Length</th>\n",
       "      <th>Pack of</th>\n",
       "      <th>Neck</th>\n",
       "      <th>Fabric Care</th>\n",
       "      <th>Sleeve</th>\n",
       "      <th>Net Quantity</th>\n",
       "      <th>Total details</th>\n",
       "    </tr>\n",
       "  </thead>\n",
       "  <tbody>\n",
       "    <tr>\n",
       "      <th>0</th>\n",
       "      <td>Women Bodycon Beige Dress</td>\n",
       "      <td>₹845</td>\n",
       "      <td>None</td>\n",
       "      <td>None</td>\n",
       "      <td>https://www.flipkart.com/sassafras-women-bodyc...</td>\n",
       "      <td>SASSAFRAS</td>\n",
       "      <td>Beige</td>\n",
       "      <td>Midi/Calf Length</td>\n",
       "      <td>Cotton Blend</td>\n",
       "      <td>Solid</td>\n",
       "      <td>...</td>\n",
       "      <td>Bodycon</td>\n",
       "      <td>SFDRSS11860</td>\n",
       "      <td>Western Wear</td>\n",
       "      <td>Full Sleeve</td>\n",
       "      <td>1</td>\n",
       "      <td>High Neck</td>\n",
       "      <td>Machine Wash</td>\n",
       "      <td>Regular Sleeves</td>\n",
       "      <td>1</td>\n",
       "      <td>NaN</td>\n",
       "    </tr>\n",
       "  </tbody>\n",
       "</table>\n",
       "<p>1 rows × 21 columns</p>\n",
       "</div>"
      ],
      "text/plain": [
       "                       Title Price Rating Reviews  \\\n",
       "0  Women Bodycon Beige Dress  ₹845   None    None   \n",
       "\n",
       "                                                 Url     Seller  Color  \\\n",
       "0  https://www.flipkart.com/sassafras-women-bodyc...  SASSAFRAS  Beige   \n",
       "\n",
       "             Length        Fabric Pattern  ...     Type   Style Code  \\\n",
       "0  Midi/Calf Length  Cotton Blend   Solid  ...  Bodycon  SFDRSS11860   \n",
       "\n",
       "   Suitable For Sleeve Length Pack of       Neck   Fabric Care  \\\n",
       "0  Western Wear   Full Sleeve       1  High Neck  Machine Wash   \n",
       "\n",
       "            Sleeve Net Quantity Total details  \n",
       "0  Regular Sleeves            1           NaN  \n",
       "\n",
       "[1 rows x 21 columns]"
      ]
     },
     "execution_count": 9,
     "metadata": {},
     "output_type": "execute_result"
    }
   ],
   "source": [
    "l"
   ]
  },
  {
   "cell_type": "code",
   "execution_count": null,
   "metadata": {},
   "outputs": [],
   "source": []
  },
  {
   "cell_type": "code",
   "execution_count": null,
   "metadata": {},
   "outputs": [],
   "source": []
  }
 ],
 "metadata": {
  "kernelspec": {
   "display_name": "base",
   "language": "python",
   "name": "python3"
  },
  "language_info": {
   "codemirror_mode": {
    "name": "ipython",
    "version": 3
   },
   "file_extension": ".py",
   "mimetype": "text/x-python",
   "name": "python",
   "nbconvert_exporter": "python",
   "pygments_lexer": "ipython3",
   "version": "3.11.5"
  }
 },
 "nbformat": 4,
 "nbformat_minor": 2
}
