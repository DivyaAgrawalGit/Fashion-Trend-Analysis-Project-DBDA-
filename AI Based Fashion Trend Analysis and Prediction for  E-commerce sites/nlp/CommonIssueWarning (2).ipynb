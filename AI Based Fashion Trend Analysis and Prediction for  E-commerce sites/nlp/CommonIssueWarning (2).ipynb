{
  "nbformat": 4,
  "nbformat_minor": 0,
  "metadata": {
    "colab": {
      "provenance": []
    },
    "kernelspec": {
      "name": "python3",
      "display_name": "Python 3"
    },
    "language_info": {
      "name": "python"
    }
  },
  "cells": [
    {
      "cell_type": "markdown",
      "source": [
        "#The model is predicting the sentiment (positive, negative, or neutral) of reviews based on the textual content in the \"Review\" column of the dataset."
      ],
      "metadata": {
        "id": "8QbRs-ZT_Pc1"
      }
    },
    {
      "cell_type": "code",
      "execution_count": 24,
      "metadata": {
        "colab": {
          "base_uri": "https://localhost:8080/"
        },
        "id": "HRZ0nx8kzipv",
        "outputId": "3d3451d8-87fa-4578-9a32-73d7e8f16b11"
      },
      "outputs": [
        {
          "output_type": "stream",
          "name": "stderr",
          "text": [
            "[nltk_data] Downloading package vader_lexicon to /root/nltk_data...\n",
            "[nltk_data]   Package vader_lexicon is already up-to-date!\n"
          ]
        },
        {
          "output_type": "stream",
          "name": "stdout",
          "text": [
            "Accuracy: 0.8817471301799235\n",
            "Classification Report:\n",
            "               precision    recall  f1-score   support\n",
            "\n",
            "    negative       0.88      0.69      0.77     14855\n",
            "     neutral       0.85      0.47      0.60     10223\n",
            "    positive       0.88      0.98      0.93     73186\n",
            "\n",
            "    accuracy                           0.88     98264\n",
            "   macro avg       0.87      0.71      0.77     98264\n",
            "weighted avg       0.88      0.88      0.87     98264\n",
            "\n"
          ]
        }
      ],
      "source": [
        "import pandas as pd\n",
        "from sklearn.model_selection import train_test_split\n",
        "from sklearn.feature_extraction.text import TfidfVectorizer\n",
        "from sklearn.naive_bayes import MultinomialNB\n",
        "from sklearn.metrics import accuracy_score, classification_report\n",
        "from nltk.sentiment import SentimentIntensityAnalyzer\n",
        "import nltk\n",
        "nltk.download('vader_lexicon')\n",
        "\n",
        "# Load dataset\n",
        "df = pd.read_csv('/content/sentiment_analysis_data.csv')\n",
        "\n",
        "# Fill NaN values in the 'Review' column with an empty string\n",
        "df['Review'] = df['Review'].fillna('')\n",
        "\n",
        "# Perform sentiment analysis using NLTK\n",
        "sia = SentimentIntensityAnalyzer()\n",
        "df['sentiment'] = df['Review'].apply(lambda x: 'positive' if sia.polarity_scores(x)['compound'] > 0 else 'negative' if sia.polarity_scores(x)['compound'] < 0 else 'neutral')\n",
        "\n",
        "# Feature Engineering\n",
        "tfidf_vectorizer = TfidfVectorizer(max_features=1000, stop_words='english')\n",
        "X = tfidf_vectorizer.fit_transform(df['Review'])\n",
        "y = df['sentiment']\n",
        "\n",
        "# Train/Test split\n",
        "X_train, X_test, y_train, y_test = train_test_split(X, y, test_size=0.25, random_state=42)\n",
        "\n",
        "# Train a Naive Bayes classifier\n",
        "classifier = MultinomialNB()\n",
        "classifier.fit(X_train, y_train)\n",
        "\n",
        "# Make predictions on the test set\n",
        "y_pred = classifier.predict(X_test)\n",
        "\n",
        "# Evaluate the model\n",
        "print(\"Accuracy:\", accuracy_score(y_test, y_pred))\n",
        "print(\"Classification Report:\\n\", classification_report(y_test, y_pred))\n"
      ]
    },
    {
      "cell_type": "code",
      "source": [
        "'''\n",
        "This part of code finds the number of unique ItemCode\n",
        "Get the top 10 ItemCode with the maximum number of rows\n",
        "'''\n",
        "\n",
        "import pandas as pd\n",
        "\n",
        "# Read the CSV file into a DataFrame\n",
        "new_comments = pd.read_csv('/content/sentiment_analysis_data.csv', error_bad_lines=False)\n",
        "\n",
        "\n",
        "# Filter unique values based on the 'ItemCode' column\n",
        "unique_item_codes = new_comments['ItemCode'].drop_duplicates()\n",
        "\n",
        "# Count the number of unique values in the 'ItemCode' column\n",
        "unique_item_codes_count = new_comments['ItemCode'].nunique()\n",
        "\n",
        "# Print the result\n",
        "print(\"Number of unique ItemCode:\", unique_item_codes_count)\n",
        "\n",
        "unique_item_codes_df = new_comments.drop_duplicates(subset='ItemCode')\n",
        "\n",
        "# Print the unique item codes or the new DataFrame\n",
        "print(unique_item_codes)\n",
        "\n",
        "# Get the top 20 ItemCode with the maximum number of rows\n",
        "top_10_itemcodes = new_comments['ItemCode'].value_counts().head(20)\n",
        "\n",
        "# Print the result\n",
        "print(\"Top 10 ItemCode with the maximum number of rows:\")\n",
        "print(top_10_itemcodes)"
      ],
      "metadata": {
        "colab": {
          "base_uri": "https://localhost:8080/"
        },
        "id": "rMFSfRgRmBE5",
        "outputId": "4a787e05-35f2-4662-dc64-cec77b580ac1"
      },
      "execution_count": 25,
      "outputs": [
        {
          "output_type": "stream",
          "name": "stderr",
          "text": [
            "<ipython-input-25-8343f2af9afd>:9: FutureWarning: The error_bad_lines argument has been deprecated and will be removed in a future version. Use on_bad_lines in the future.\n",
            "\n",
            "\n",
            "  new_comments = pd.read_csv('/content/sentiment_analysis_data.csv', error_bad_lines=False)\n"
          ]
        },
        {
          "output_type": "stream",
          "name": "stdout",
          "text": [
            "Number of unique ItemCode: 6289\n",
            "0         ateoz80EHr\n",
            "13        bZtFJ6hceT\n",
            "199       e34197PMOo\n",
            "270       5BfdKoQsUt\n",
            "341       ryQGXwhPpq\n",
            "             ...    \n",
            "392492    4FL5MGAh9q\n",
            "392508    FiIw6yHBsm\n",
            "392702    aRthMqgvNS\n",
            "392856    ikYOPEmXzL\n",
            "392956    xhMEXVtHuU\n",
            "Name: ItemCode, Length: 6289, dtype: object\n",
            "Top 10 ItemCode with the maximum number of rows:\n",
            "1aX8othHvc    700\n",
            "gaWCtiRAQM    700\n",
            "kvu8K6b7lp    700\n",
            "1mhLBwsfPx    700\n",
            "S9lsdanMmz    700\n",
            "YruZFmgn9S    700\n",
            "JZxmdT5atP    700\n",
            "cBfZN8gd2Y    700\n",
            "IrNyBtfKLZ    700\n",
            "FB5DMY8pUG    669\n",
            "VZlRpTAUeN    669\n",
            "RxGerC3opY    669\n",
            "vPl3V7DAFW    658\n",
            "l81xtgVOoS    645\n",
            "BpvGYAMKST    640\n",
            "5ZsXt46GjY    600\n",
            "pXYqCyQskN    557\n",
            "oZEW8uhPKq    522\n",
            "rAxePIqNF3    500\n",
            "oNHqUh1wfk    500\n",
            "Name: ItemCode, dtype: int64\n"
          ]
        }
      ]
    },
    {
      "cell_type": "markdown",
      "source": [
        "#Finding the common issues mentioned in Reviews using using NLTK's Bag of Words Approach"
      ],
      "metadata": {
        "id": "opR2OVRd3F01"
      }
    },
    {
      "cell_type": "code",
      "source": [
        "'''\n",
        "This part code is used for Finding the common issues mentioned in Reviews\n",
        "using NLTK's Bag of Words Approach\n",
        "'''\n",
        "\n",
        "import pandas as pd\n",
        "from nltk.sentiment import SentimentIntensityAnalyzer\n",
        "from collections import Counter\n",
        "import matplotlib.pyplot as plt\n",
        "import nltk\n",
        "nltk.download('vader_lexicon')\n",
        "\n",
        "# Load new comments for sentiment analysis\n",
        "new_comments = pd.read_csv('/content/sentiment_analysis_data.csv', error_bad_lines=False)\n",
        "\n",
        "\n",
        "selected_itemcode = 'oNHqUh1wfk'\n",
        "\n",
        "# Filter DataFrame for the specified ItemCode\n",
        "selected_comments = new_comments[new_comments['ItemCode'] == selected_itemcode].copy()\n",
        "\n",
        "# Convert text data to lowercase\n",
        "selected_comments['Review'] = selected_comments['Review'].str.lower()\n",
        "\n",
        "# Perform sentiment analysis using NLTK's VADER\n",
        "sia = SentimentIntensityAnalyzer()\n",
        "selected_comments['sentiment'] = selected_comments['Review'].apply(lambda x: 'positive' if sia.polarity_scores(x)['compound'] > 0 else 'negative' if sia.polarity_scores(x)['compound'] < 0 else 'neutral')\n",
        "\n",
        "# Identify negative comments\n",
        "negative_selected_comments = selected_comments[selected_comments['sentiment'] == 'negative']\n",
        "\n",
        "# Print some debugging information\n",
        "print(\"Number of negative comments:\", len(negative_selected_comments))\n",
        "print(\"All sentiments in the DataFrame:\", selected_comments['sentiment'].unique())\n",
        "\n",
        "# Analyze common issues in negative comments\n",
        "common_issues = Counter(\" \".join(negative_selected_comments['Review']).split()).most_common(5)\n",
        "\n",
        "# Check if common_issues is not empty before unpacking\n",
        "if common_issues:\n",
        "    # Present Suggestions to the Manufacturer\n",
        "    print(f\"\\nCommon Issues in Negative Comments for ItemCode {selected_itemcode}:\")\n",
        "    for issue, count in common_issues:\n",
        "        print(f\"{issue}: {count} mentions\")\n",
        "\n",
        "    # Plot a bar chart for common issues\n",
        "    issues, counts = zip(*common_issues)\n",
        "    plt.bar(issues, counts, color='red')\n",
        "    plt.xlabel('Common Issues')\n",
        "    plt.ylabel('Frequency')\n",
        "    plt.title(f'Common Issues in Negative Comments for ItemCode {selected_itemcode}')\n",
        "    plt.show()\n",
        "else:\n",
        "    print(\"No common issues found in negative comments.\")\n",
        "\n"
      ],
      "metadata": {
        "colab": {
          "base_uri": "https://localhost:8080/",
          "height": 766
        },
        "id": "s3EQ3bn_nrtV",
        "outputId": "75a69cae-9704-4ab7-b7fe-ca63e4807b47"
      },
      "execution_count": 21,
      "outputs": [
        {
          "output_type": "stream",
          "name": "stderr",
          "text": [
            "[nltk_data] Downloading package vader_lexicon to /root/nltk_data...\n",
            "[nltk_data]   Package vader_lexicon is already up-to-date!\n",
            "<ipython-input-21-8fb13bd3e9a8>:14: FutureWarning: The error_bad_lines argument has been deprecated and will be removed in a future version. Use on_bad_lines in the future.\n",
            "\n",
            "\n",
            "  new_comments = pd.read_csv('/content/sentiment_analysis_data.csv', error_bad_lines=False)\n"
          ]
        },
        {
          "output_type": "stream",
          "name": "stdout",
          "text": [
            "Number of negative comments: 39\n",
            "All sentiments in the DataFrame: ['positive' 'neutral' 'negative']\n",
            "\n",
            "Common Issues in Negative Comments for ItemCode oNHqUh1wfk:\n",
            "very: 16 mentions\n",
            "quality: 16 mentions\n",
            "not: 13 mentions\n",
            "bad: 11 mentions\n",
            "is: 10 mentions\n"
          ]
        },
        {
          "output_type": "display_data",
          "data": {
            "text/plain": [
              "<Figure size 640x480 with 1 Axes>"
            ],
            "image/png": "[encoded data removed]"
          },
          "metadata": {}
        }
      ]
    }
  ]
}