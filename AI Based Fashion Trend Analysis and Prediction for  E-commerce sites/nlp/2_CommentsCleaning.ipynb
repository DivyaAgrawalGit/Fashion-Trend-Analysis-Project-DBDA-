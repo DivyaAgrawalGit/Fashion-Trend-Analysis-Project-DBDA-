{
 "cells": [
  {
   "cell_type": "code",
   "execution_count": null,
   "id": "b6708826",
   "metadata": {},
   "outputs": [],
   "source": [
    "import re\n",
    "import time\n",
    "import requests\n",
    "import pandas as pd\n",
    "from bs4 import BeautifulSoup"
   ]
  },
  {
   "cell_type": "code",
   "execution_count": null,
   "id": "98a6021a",
   "metadata": {},
   "outputs": [],
   "source": [
    "filename='comments_combrided'\n",
    "sr = pd.read_csv(filename)"
   ]
  },
  {
   "cell_type": "code",
   "execution_count": null,
   "id": "16511e1b",
   "metadata": {
    "scrolled": false
   },
   "outputs": [],
   "source": [
    "# cleaning Time Column:\n",
    "print(type(sr['date'][0]))\n",
    "sr.date=sr.date.astype(str)\n",
    "sr.date=sr.apply(lambda x:x.date[len(x.customer):],axis=1)\n",
    "sr.date=sr.date.apply(lambda x:x.replace('PermalinkReport Abuse',''))\n",
    "print(sr.date)\n",
    "\n",
    "dlist = sr['date'].to_list()\n",
    "print(type(dlist))\n",
    "print(dlist[0])\n",
    "print(type(dlist[0]))"
   ]
  },
  {
   "cell_type": "code",
   "execution_count": null,
   "id": "a8084934",
   "metadata": {},
   "outputs": [],
   "source": [
    "ddf = pd.DataFrame({'list':dlist})"
   ]
  },
  {
   "cell_type": "code",
   "execution_count": null,
   "id": "c435b74c",
   "metadata": {},
   "outputs": [],
   "source": [
    "from datetime import datetime, timedelta\n",
    "date_list = []\n",
    "for dl in dlist:\n",
    "    print(dl)\n",
    "#     new_date = '2012-01-01'\n",
    "    #print(dl)\n",
    "    if 'ago' in dl:\n",
    "        if 'months' or 'month' in dl:\n",
    "            if int(dl.split()[0]):\n",
    "                months_ago = int(dl.split()[0])\n",
    "            else:\n",
    "                months_ago = 1\n",
    "            new_date = datetime.now() - timedelta(days=months_ago * 30)\n",
    "            print(new_date)\n",
    "        elif 'days' or 'day' in dl:\n",
    "            if int(dl.split()[0]):\n",
    "                days_ago = int(dl.split()[0])  \n",
    "            else:\n",
    "                days_ago = 1\n",
    "            new_date = datetime.now() - timedelta(days=days_ago)    \n",
    "            print(new_date)\n",
    "        elif 'Today' in dl:\n",
    "            new_date = datetime.now() - timedelta(days=0)\n",
    "            print(new_date)\n",
    "        elif ('ays'|'ys'|'h'|'hs'|'nth'|'nths'|'ths'|'th'|'s'|'onths'|'onth'|'') in dl:\n",
    "            days_ago = 1\n",
    "            new_date = datetime.now() - timedelta(days=days_ago)\n",
    "            print(new_date)\n",
    "    else:\n",
    "        try:\n",
    "            result = re.search(r'(\\w{3}, \\d{4})', dl)\n",
    "            if result:\n",
    "                new_date = datetime.strptime(result.group(1), '%b, %Y')\n",
    "                print(new_date)\n",
    "        except ValueError as e:\n",
    "            print(e)\n",
    "    date_list.append(new_date)"
   ]
  },
  {
   "cell_type": "code",
   "execution_count": null,
   "id": "0f71a2dd",
   "metadata": {},
   "outputs": [],
   "source": [
    "print(date_list)"
   ]
  },
  {
   "cell_type": "code",
   "execution_count": null,
   "id": "323d5754",
   "metadata": {},
   "outputs": [],
   "source": [
    "sr['Time'] = date_list\n",
    "print(sr['Time'])\n",
    "\n",
    "sr['Time1'] = pd.to_datetime(sr['Time'].to_list())\n",
    "sr['Month'] = sr['Time1'].dt.strftime('%b')  # %b gives the abbreviated month name (e.g., Jun)\n",
    "sr['Year'] = sr['Time1'].dt.strftime('%Y')\n",
    "sr.head(5)"
   ]
  },
  {
   "cell_type": "code",
   "execution_count": null,
   "id": "68202a26",
   "metadata": {},
   "outputs": [],
   "source": [
    "print(sr.columns)\n",
    "sr.drop('Time',axis=1,inplace=True)\n",
    "sr.drop('Time1',axis=1,inplace=True)\n",
    "print(sr.columns)\n",
    "sr.head(5)"
   ]
  },
  {
   "cell_type": "code",
   "execution_count": null,
   "id": "fd7e4dc7",
   "metadata": {},
   "outputs": [],
   "source": []
  }
 ],
 "metadata": {
  "kernelspec": {
   "display_name": "Python 3 (ipykernel)",
   "language": "python",
   "name": "python3"
  },
  "language_info": {
   "codemirror_mode": {
    "name": "ipython",
    "version": 3
   },
   "file_extension": ".py",
   "mimetype": "text/x-python",
   "name": "python",
   "nbconvert_exporter": "python",
   "pygments_lexer": "ipython3",
   "version": "3.11.5"
  }
 },
 "nbformat": 4,
 "nbformat_minor": 5
}
