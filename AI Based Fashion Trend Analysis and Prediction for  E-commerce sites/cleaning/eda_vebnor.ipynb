{
 "cells": [
  {
   "cell_type": "code",
   "execution_count": 8,
   "metadata": {},
   "outputs": [],
   "source": [
    "import pandas as pd\n",
    "import random"
   ]
  },
  {
   "cell_type": "code",
   "execution_count": 9,
   "metadata": {},
   "outputs": [
    {
     "name": "stdout",
     "output_type": "stream",
     "text": [
      "<class 'pandas.core.frame.DataFrame'>\n",
      "Index: 355 entries, 0 to 354\n",
      "Data columns (total 66 columns):\n",
      " #   Column                               Non-Null Count  Dtype  \n",
      "---  ------                               --------------  -----  \n",
      " 0   Unnamed: 0                           355 non-null    int64  \n",
      " 1   Title                                355 non-null    object \n",
      " 2   Price                                355 non-null    object \n",
      " 3   Rating                               337 non-null    float64\n",
      " 4   Reviews                              337 non-null    object \n",
      " 5   Url                                  355 non-null    object \n",
      " 6   Seller                               352 non-null    object \n",
      " 7   Pack of                              262 non-null    object \n",
      " 8   Style Code                           330 non-null    object \n",
      " 9   Closure                              197 non-null    object \n",
      " 10  Fit                                  260 non-null    object \n",
      " 11  Fabric                               352 non-null    object \n",
      " 12  Sleeve                               259 non-null    object \n",
      " 13  Pattern                              351 non-null    object \n",
      " 14  Reversible                           249 non-null    object \n",
      " 15  Collar                               155 non-null    object \n",
      " 16  Color                                260 non-null    object \n",
      " 17  Fabric Care                          296 non-null    object \n",
      " 18  Suitable For                         257 non-null    object \n",
      " 19  Hem                                  152 non-null    object \n",
      " 20  Other Details                        191 non-null    object \n",
      " 21  Net Quantity                         349 non-null    float64\n",
      " 22  Type                                 129 non-null    object \n",
      " 23  Sales Package                        127 non-null    object \n",
      " 24  Neck Type                            91 non-null     object \n",
      " 25  Ideal For                            114 non-null    object \n",
      " 26  Size                                 92 non-null     object \n",
      " 27  Occasion                             19 non-null     object \n",
      " 28  Alteration Required                  10 non-null     object \n",
      " 29  Belt Loops                           10 non-null     object \n",
      " 30  Rise                                 10 non-null     object \n",
      " 31  Pleats                               10 non-null     object \n",
      " 32  Fly                                  12 non-null     object \n",
      " 33  Fabric Details                       10 non-null     object \n",
      " 34  Length Type                          8 non-null      object \n",
      " 35  Brand Color                          8 non-null      object \n",
      " 36  Neck                                 10 non-null     object \n",
      " 37  Number of Contents in Sales Package  23 non-null     object \n",
      " 38  Package contains                     8 non-null      object \n",
      " 39  Other Dimensions                     12 non-null     object \n",
      " 40  Pockets                              37 non-null     object \n",
      " 41  Secondary Color                      19 non-null     object \n",
      " 42  Style code                           5 non-null      object \n",
      " 43  Ideal for                            5 non-null      object \n",
      " 44  Sales package                        2 non-null      object \n",
      " 45  Suitable for                         4 non-null      object \n",
      " 46  Hooded                               2 non-null      object \n",
      " 47  Fabric care                          5 non-null      object \n",
      " 48  Warranty Summary                     0 non-null      float64\n",
      " 49  Warranty Service Type                0 non-null      float64\n",
      " 50  Covered in Warranty                  1 non-null      object \n",
      " 51  Not Covered in Warranty              1 non-null      object \n",
      " 52  Domestic Warranty                    8 non-null      object \n",
      " 53  Series                               8 non-null      object \n",
      " 54  Unnamed: 54                          11 non-null     object \n",
      " 55  International Warranty               1 non-null      float64\n",
      " 56  Character                            0 non-null      float64\n",
      " 57  Brand                                1 non-null      object \n",
      " 58  Brand color                          1 non-null      object \n",
      " 59  Label size                           1 non-null      float64\n",
      " 60  Primary product type                 1 non-null      object \n",
      " 61  Secondary product type               1 non-null      object \n",
      " 62  Primary Color                        1 non-null      object \n",
      " 63  Suitabl for                          1 non-null      object \n",
      " 64  Fabric details                       1 non-null      object \n",
      " 65  total                                355 non-null    object \n",
      "dtypes: float64(7), int64(1), object(58)\n",
      "memory usage: 185.8+ KB\n"
     ]
    }
   ],
   "source": [
    "df1=pd.read_json('vebnor.json')\n",
    "df1.info()"
   ]
  },
  {
   "cell_type": "code",
   "execution_count": 10,
   "metadata": {},
   "outputs": [
    {
     "data": {
      "text/plain": [
       "Seller\n",
       "VeBNoR         261\n",
       "AVOLT           20\n",
       "Duooble         13\n",
       "krijo            9\n",
       "StyleMODO        8\n",
       "U TURN           8\n",
       "Mistigriz        5\n",
       "unbeatable       5\n",
       "YFB              3\n",
       "TRIPR            3\n",
       "WMX              2\n",
       "Om Creation      2\n",
       "FTX              2\n",
       "LAHEJA           2\n",
       "Reya             2\n",
       "Anand            2\n",
       "Ziyan tex        2\n",
       "SmartRAHO        1\n",
       "jai bharat       1\n",
       "BLUE MARTIN      1\n",
       "Name: count, dtype: int64"
      ]
     },
     "execution_count": 10,
     "metadata": {},
     "output_type": "execute_result"
    }
   ],
   "source": [
    "df1.Seller.value_counts()"
   ]
  },
  {
   "cell_type": "code",
   "execution_count": 11,
   "metadata": {},
   "outputs": [],
   "source": [
    "df1['Ideal for']=df1['Ideal For']\n",
    "df=df1[['Title','Price','Rating','Reviews','Color','Seller','Type','Fabric','Ideal for','Pattern','total','Url']]\n",
    "df=df[df.Title.notnull()]\n",
    "df=df[df.Price.notnull()]\n",
    "df=df[df.Seller=='VeBNoR']"
   ]
  },
  {
   "cell_type": "code",
   "execution_count": 20,
   "metadata": {},
   "outputs": [
    {
     "data": {
      "text/plain": [
       "Title           0\n",
       "Price           0\n",
       "Rating          0\n",
       "Reviews         0\n",
       "Color           0\n",
       "Seller          0\n",
       "Type            0\n",
       "Fabric          0\n",
       "Ideal for       0\n",
       "Pattern         0\n",
       "Url             0\n",
       "code            0\n",
       "nlp             0\n",
       "1 star          0\n",
       "2 stars         0\n",
       "3 stars         0\n",
       "4 stars         0\n",
       "5 stars         0\n",
       "Rating count    0\n",
       "Review count    0\n",
       "dtype: int64"
      ]
     },
     "execution_count": 20,
     "metadata": {},
     "output_type": "execute_result"
    }
   ],
   "source": [
    "df.isnull().sum()"
   ]
  },
  {
   "cell_type": "code",
   "execution_count": 13,
   "metadata": {},
   "outputs": [],
   "source": [
    "patterns=list(set(df['Pattern']))\n",
    "if None in patterns:\n",
    "    patterns.remove(None)\n",
    "#unique_patterns = set(patterns)  # Create set outside the function for efficiency\n",
    "def pattern_fill(row):\n",
    "    if row['Pattern'] is None:\n",
    "        for pattern in patterns:\n",
    "            if pattern in row['Title']:\n",
    "                return type\n",
    "        # Handle cases where no match is found (return default, raise error, etc.)\n",
    "    else:\n",
    "        return row['Pattern']\n",
    "\n",
    "\n",
    "colours=list(set(df['Color']))\n",
    "if None in colours:\n",
    "    colours.remove(None)\n",
    "\n",
    "def colour_fill(row):\n",
    "    if row['Color'] is None:\n",
    "        for color in colours:\n",
    "            if color.lower( ) in row['Title'].lower():   # Make case-insensitive\n",
    "                return color\n",
    "    else:\n",
    "        return  row['Color']\n",
    "\n",
    "persons=['Men','Women','Kid','Girl','Boy']\n",
    "def idealfor(row):\n",
    "    z=row['Title']\n",
    "    for x in persons:\n",
    "        if x in z:   # Make case-insensitive\n",
    "            return x \n",
    "        elif 'Suit':\n",
    "            return 'Men'\n",
    "        elif 'Lehenga' in z:\n",
    "            return 'Women'\n",
    "        \n",
    "\n",
    "\n",
    "def rat_cnt(row):\n",
    "    if row==0:\n",
    "        return 0\n",
    "    x=row.replace(',','')\n",
    "    x=x.split(\" \")\n",
    "    return x[0]\n",
    "\n",
    "\n",
    "def rev_cnt(row):\n",
    "    if row==0:\n",
    "        return 0\n",
    "    x=row.replace(',','')\n",
    "    x=x.split(\" \")\n",
    "    return x[0]"
   ]
  },
  {
   "cell_type": "code",
   "execution_count": 14,
   "metadata": {},
   "outputs": [],
   "source": [
    "df['Pattern'] = df.apply(pattern_fill, axis=1)\n",
    "df['Color'] = df.apply(colour_fill, axis=1)\n",
    "df['Ideal for']=df.apply(idealfor,axis=1)\n",
    "#df['Ideal for'].fillna('Women',inplace=True)\n",
    "df[\"Pattern\"].fillna(random.choice(patterns), inplace=True)\n",
    "df[\"Color\"].fillna(random.choice(colours), inplace=True)\n",
    "fabrics=list(set(df['Fabric']))\n",
    "#if None in fabrics:\n",
    "#    fabrics.remove('None')\n",
    "df[\"Fabric\"].fillna(random.choice(fabrics), inplace=True)\n",
    "#df.Title=df.Title.str.replace(r'\\(....??\\)','')\n",
    "\n",
    "df.Rating=df.Rating.fillna(-1)\n",
    "df['Price']=df['Price'].apply(lambda x: x[1:]).str.replace(',','').astype(int)\n",
    "\n",
    "df[\"code\"]=df.total.apply(lambda x : x[1])\n",
    "df[\"nlp\"]=df.total.apply(lambda x : x[2])\n",
    "df[\"Stars\"]=df.total.apply(lambda x : x[3])\n",
    "\n",
    "df[\"1 star\"]=df.Stars.apply(lambda x : str(x[0]).replace(',','')).astype(int)\n",
    "df[\"2 stars\"]=df.Stars.apply(lambda x : str(x[1]).replace(',','')).astype(int)\n",
    "df[\"3 stars\"]=df.Stars.apply(lambda x: str(x[2]).replace(',','')).astype(int)\n",
    "df[\"4 stars\"]=df.Stars.apply(lambda x: str(x[3]).replace(',','')).astype(int)\n",
    "df[\"5 stars\"]=df.Stars.apply(lambda x: str(x[4]).replace(',','')).astype(int)\n",
    "\n",
    "\n",
    "df.Reviews.fillna(0, inplace=True)\n",
    "df['Rating count']=df['Reviews'].apply(rat_cnt)\n",
    "df['Review count']=df['Reviews'].apply(rev_cnt)\n",
    "#df[df['Reviews']!=0]['Rating count']=df[df['Reviews']!=0]['Reviews'].apply(lambda x: x.replace(',','').split(' ')[0])\n",
    "#df[df['Reviews']!=0]['Review count']=df[df['Reviews']!=0]['Reviews'].apply(lambda x: x.replace(',','').split(' ')[3])\n",
    "\n",
    "df.drop(\"Stars\",axis=1,inplace=True)\n",
    "df.drop(\"total\",axis=1,inplace=True)"
   ]
  },
  {
   "cell_type": "code",
   "execution_count": 15,
   "metadata": {},
   "outputs": [
    {
     "data": {
      "text/plain": [
       "Title             0\n",
       "Price             0\n",
       "Rating            0\n",
       "Reviews           0\n",
       "Color             0\n",
       "Seller            0\n",
       "Type            154\n",
       "Fabric            0\n",
       "Ideal for         0\n",
       "Pattern           0\n",
       "Url               0\n",
       "code              0\n",
       "nlp               0\n",
       "1 star            0\n",
       "2 stars           0\n",
       "3 stars           0\n",
       "4 stars           0\n",
       "5 stars           0\n",
       "Rating count      0\n",
       "Review count      0\n",
       "dtype: int64"
      ]
     },
     "execution_count": 15,
     "metadata": {},
     "output_type": "execute_result"
    }
   ],
   "source": [
    "df.isnull().sum()"
   ]
  },
  {
   "cell_type": "markdown",
   "metadata": {},
   "source": [
    "types=list(set(df['Type']))\n",
    "types.remove(None)\n",
    "#print(types)\n",
    "def type_fill(row):\n",
    "    y=row.Title\n",
    "    y=y.split(' ')\n",
    "    if y[-1]=='Women':\n",
    "        return None\n",
    "    return y[-1]\n",
    "\n",
    "\n",
    "def type1_fill(row):\n",
    "    if row['Type'] is None:\n",
    "        for type in types:\n",
    "            print(type)\n",
    "            if type in row['Title']:   # Make case-insensitive\n",
    "                return type\n",
    "    else:\n",
    "        return  row['Type']\n",
    "\n",
    "df['Type']=df.apply(type1_fill,axis=1)\n",
    "df.Type.fillna('Coat',inplace=True)"
   ]
  },
  {
   "cell_type": "code",
   "execution_count": 16,
   "metadata": {},
   "outputs": [],
   "source": [
    "types=list(set(df['Type']))\n",
    "if None in types:\n",
    "    types.remove(None)\n",
    "#print(types)\n",
    "def type_fill(row):\n",
    "    z=row.Title\n",
    "    y=z.split(' ')\n",
    "    if 'Kurta' in z:\n",
    "        return 'Kurta'\n",
    "    elif 'Blazer' in z:\n",
    "        return 'Blazer'\n",
    "    elif 'Top' in z:\n",
    "        return 'Top'\n",
    "    elif 'Jacket' in z:\n",
    "        return 'Jacket'\n",
    "    elif 'Lehenga' in z:\n",
    "        return 'Lehenga'\n",
    "    elif 'Night' in z:\n",
    "        return 'Night Suit'\n",
    "    elif 'Men' in y[-1]:\n",
    "        return 'Shoes'\n",
    "    elif 'Saree' in z:\n",
    "        return 'Saree'\n",
    "\n",
    "    elif 'Women' in y[-1]:\n",
    "        return 'Boots'\n",
    "    elif 'Shoes' in z:\n",
    "        return 'Shoes'\n",
    "    elif 'Suit' in z:\n",
    "        return 'Suit'\n",
    "    return y[-1]\n",
    "\n",
    "\n",
    "def type1_fill(row):\n",
    "    if row['Type'] is None:\n",
    "        for type in types:\n",
    "            #print(type)\n",
    "            if type in row['Title']:   # Make case-insensitive\n",
    "                return type\n",
    "    else:\n",
    "        return  row['Type']\n",
    "df.Type=df.apply(type_fill,axis=1)"
   ]
  },
  {
   "cell_type": "code",
   "execution_count": 17,
   "metadata": {},
   "outputs": [],
   "source": [
    "df.to_json('data/vebnor.json')"
   ]
  },
  {
   "cell_type": "code",
   "execution_count": 18,
   "metadata": {},
   "outputs": [
    {
     "data": {
      "text/plain": [
       "Type\n",
       "Shirt       130\n",
       "T-Shirt      87\n",
       "Pants        20\n",
       "Trousers     10\n",
       "Kurta         8\n",
       "2)            4\n",
       "Jacket        2\n",
       "Name: count, dtype: int64"
      ]
     },
     "execution_count": 18,
     "metadata": {},
     "output_type": "execute_result"
    }
   ],
   "source": [
    "df.Type.value_counts()\n",
    "#df[df.Type=='Dress']"
   ]
  },
  {
   "cell_type": "code",
   "execution_count": 19,
   "metadata": {},
   "outputs": [
    {
     "data": {
      "text/plain": [
       "Title           0\n",
       "Price           0\n",
       "Rating          0\n",
       "Reviews         0\n",
       "Color           0\n",
       "Seller          0\n",
       "Type            0\n",
       "Fabric          0\n",
       "Ideal for       0\n",
       "Pattern         0\n",
       "Url             0\n",
       "code            0\n",
       "nlp             0\n",
       "1 star          0\n",
       "2 stars         0\n",
       "3 stars         0\n",
       "4 stars         0\n",
       "5 stars         0\n",
       "Rating count    0\n",
       "Review count    0\n",
       "dtype: int64"
      ]
     },
     "execution_count": 19,
     "metadata": {},
     "output_type": "execute_result"
    }
   ],
   "source": [
    "df.isnull().sum()"
   ]
  },
  {
   "cell_type": "code",
   "execution_count": null,
   "metadata": {},
   "outputs": [],
   "source": []
  }
 ],
 "metadata": {
  "kernelspec": {
   "display_name": "ML_Sep2023_rohan",
   "language": "python",
   "name": "python3"
  },
  "language_info": {
   "codemirror_mode": {
    "name": "ipython",
    "version": 3
   },
   "file_extension": ".py",
   "mimetype": "text/x-python",
   "name": "python",
   "nbconvert_exporter": "python",
   "pygments_lexer": "ipython3",
   "version": "3.11.5"
  }
 },
 "nbformat": 4,
 "nbformat_minor": 2
}
