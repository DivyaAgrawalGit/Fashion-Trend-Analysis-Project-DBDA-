{
 "cells": [
  {
   "cell_type": "code",
   "execution_count": 71,
   "metadata": {},
   "outputs": [],
   "source": [
    "import pandas as pd\n",
    "import random"
   ]
  },
  {
   "cell_type": "code",
   "execution_count": 72,
   "metadata": {},
   "outputs": [
    {
     "name": "stdout",
     "output_type": "stream",
     "text": [
      "<class 'pandas.core.frame.DataFrame'>\n",
      "Index: 434 entries, 0 to 433\n",
      "Data columns (total 51 columns):\n",
      " #   Column                               Non-Null Count  Dtype  \n",
      "---  ------                               --------------  -----  \n",
      " 0   Unnamed: 0                           434 non-null    int64  \n",
      " 1   Title                                434 non-null    object \n",
      " 2   Price                                430 non-null    object \n",
      " 3   Rating                               373 non-null    float64\n",
      " 4   Reviews                              382 non-null    object \n",
      " 5   Url                                  434 non-null    object \n",
      " 6   Seller                               434 non-null    object \n",
      " 7   Pack of                              407 non-null    float64\n",
      " 8   Style Code                           333 non-null    object \n",
      " 9   Fit                                  397 non-null    object \n",
      " 10  Fabric                               434 non-null    object \n",
      " 11  Sleeve                               319 non-null    object \n",
      " 12  Pattern                              434 non-null    object \n",
      " 13  Reversible                           307 non-null    object \n",
      " 14  Collar                               228 non-null    object \n",
      " 15  Color                                423 non-null    object \n",
      " 16  Fabric Care                          400 non-null    object \n",
      " 17  Suitable For                         407 non-null    object \n",
      " 18  Hem                                  242 non-null    object \n",
      " 19  Other Details                        146 non-null    object \n",
      " 20  Net Quantity                         423 non-null    float64\n",
      " 21  Closure                              268 non-null    object \n",
      " 22  Occasion                             117 non-null    object \n",
      " 23  Type                                 126 non-null    object \n",
      " 24  Alteration Required                  43 non-null     object \n",
      " 25  Belt Loops                           84 non-null     object \n",
      " 26  Fly                                  83 non-null     object \n",
      " 27  Rise                                 54 non-null     object \n",
      " 28  Pleats                               36 non-null     object \n",
      " 29  Other Dimensions                     34 non-null     object \n",
      " 30  Fabric Details                       34 non-null     object \n",
      " 31  Secondary Color                      10 non-null     object \n",
      " 32  Warranty Summary                     5 non-null      object \n",
      " 33  Sales Package                        16 non-null     object \n",
      " 34  Neck Type                            11 non-null     object \n",
      " 35  Ideal For                            23 non-null     object \n",
      " 36  Size                                 11 non-null     object \n",
      " 37  Length Type                          12 non-null     object \n",
      " 38  Brand Color                          12 non-null     object \n",
      " 39  Neck                                 14 non-null     object \n",
      " 40  Pockets                              9 non-null      object \n",
      " 41  Number of Contents in Sales Package  12 non-null     object \n",
      " 42  Inseam Length                        1 non-null      object \n",
      " 43  Style                                2 non-null      object \n",
      " 44  Package contains                     7 non-null      object \n",
      " 45  Top fabric                           4 non-null      object \n",
      " 46  Bottom fabric                        4 non-null      object \n",
      " 47  Top type                             10 non-null     object \n",
      " 48  Bottom type                          10 non-null     object \n",
      " 49  Fabric care                          3 non-null      object \n",
      " 50  total                                434 non-null    object \n",
      "dtypes: float64(3), int64(1), object(47)\n",
      "memory usage: 176.3+ KB\n"
     ]
    }
   ],
   "source": [
    "df1=pd.read_json('combrided.json')\n",
    "df1.info()"
   ]
  },
  {
   "cell_type": "code",
   "execution_count": 73,
   "metadata": {},
   "outputs": [
    {
     "data": {
      "text/plain": [
       "Seller\n",
       "COMBRAIDED    434\n",
       "Name: count, dtype: int64"
      ]
     },
     "execution_count": 73,
     "metadata": {},
     "output_type": "execute_result"
    }
   ],
   "source": [
    "df1.Seller.value_counts()"
   ]
  },
  {
   "cell_type": "code",
   "execution_count": 74,
   "metadata": {},
   "outputs": [],
   "source": [
    "df1['Ideal for']=df1['Ideal For']\n",
    "df=df1[['Title','Price','Rating','Reviews','Color','Seller','Type','Fabric','Ideal for','Pattern','total','Url']]\n",
    "df=df[df.Title.notnull()]\n",
    "df=df[df.Price.notnull()]\n",
    "df=df[df.Seller=='COMBRAIDED']"
   ]
  },
  {
   "cell_type": "code",
   "execution_count": 75,
   "metadata": {},
   "outputs": [
    {
     "data": {
      "text/plain": [
       "Title          0\n",
       "Price          0\n",
       "Rating        57\n",
       "Reviews       52\n",
       "Color         10\n",
       "Seller         0\n",
       "Type         305\n",
       "Fabric         0\n",
       "Ideal for    408\n",
       "Pattern        0\n",
       "total          0\n",
       "Url            0\n",
       "dtype: int64"
      ]
     },
     "execution_count": 75,
     "metadata": {},
     "output_type": "execute_result"
    }
   ],
   "source": [
    "df.isnull().sum()"
   ]
  },
  {
   "cell_type": "code",
   "execution_count": 76,
   "metadata": {},
   "outputs": [],
   "source": [
    "patterns=list(set(df['Pattern']))\n",
    "if None in patterns:\n",
    "    patterns.remove(None)\n",
    "#unique_patterns = set(patterns)  # Create set outside the function for efficiency\n",
    "def pattern_fill(row):\n",
    "    if row['Pattern'] is None:\n",
    "        for pattern in patterns:\n",
    "            if pattern in row['Title']:\n",
    "                return type\n",
    "        # Handle cases where no match is found (return default, raise error, etc.)\n",
    "    else:\n",
    "        return row['Pattern']\n",
    "\n",
    "\n",
    "colours=list(set(df['Color']))\n",
    "if None in colours:\n",
    "    colours.remove(None)\n",
    "\n",
    "def colour_fill(row):\n",
    "    if row['Color'] is None:\n",
    "        for color in colours:\n",
    "            if color.lower( ) in row['Title'].lower():   # Make case-insensitive\n",
    "                return color\n",
    "    else:\n",
    "        return  row['Color']\n",
    "\n",
    "persons=['Men','Women','Kid','Girl','Boy']\n",
    "def idealfor(row):\n",
    "    z=row['Title']\n",
    "    for x in persons:\n",
    "        if x in z:   # Make case-insensitive\n",
    "            return x \n",
    "        elif 'Suit':\n",
    "            return 'Men'\n",
    "        elif 'Lehenga' in z:\n",
    "            return 'Women'\n",
    "        \n",
    "\n",
    "\n",
    "def rat_cnt(row):\n",
    "    if row==0:\n",
    "        return 0\n",
    "    x=row.replace(',','')\n",
    "    x=x.split(\" \")\n",
    "    return x[0]\n",
    "\n",
    "\n",
    "def rev_cnt(row):\n",
    "    if row==0:\n",
    "        return 0\n",
    "    x=row.replace(',','')\n",
    "    x=x.split(\" \")\n",
    "    return x[0]"
   ]
  },
  {
   "cell_type": "code",
   "execution_count": 77,
   "metadata": {},
   "outputs": [],
   "source": [
    "df['Pattern'] = df.apply(pattern_fill, axis=1)\n",
    "df['Color'] = df.apply(colour_fill, axis=1)\n",
    "df['Ideal for']=df.apply(idealfor,axis=1)\n",
    "#df['Ideal for'].fillna('Women',inplace=True)\n",
    "df[\"Pattern\"].fillna(random.choice(patterns), inplace=True)\n",
    "df[\"Color\"].fillna(random.choice(colours), inplace=True)\n",
    "fabrics=list(set(df['Fabric']))\n",
    "#if None in fabrics:\n",
    "#    fabrics.remove('None')\n",
    "df[\"Fabric\"].fillna(random.choice(fabrics), inplace=True)\n",
    "#df.Title=df.Title.str.replace(r'\\(....??\\)','')\n",
    "\n",
    "df.Rating=df.Rating.fillna(-1)\n",
    "df['Price']=df['Price'].apply(lambda x: x[1:]).str.replace(',','').astype(int)\n",
    "\n",
    "df[\"code\"]=df.total.apply(lambda x : x[1])\n",
    "df[\"nlp\"]=df.total.apply(lambda x : x[2])\n",
    "df[\"Stars\"]=df.total.apply(lambda x : x[3])\n",
    "\n",
    "df[\"1 star\"]=df.Stars.apply(lambda x : str(x[0]).replace(',','')).astype(int)\n",
    "df[\"2 stars\"]=df.Stars.apply(lambda x : str(x[1]).replace(',','')).astype(int)\n",
    "df[\"3 stars\"]=df.Stars.apply(lambda x: str(x[2]).replace(',','')).astype(int)\n",
    "df[\"4 stars\"]=df.Stars.apply(lambda x: str(x[3]).replace(',','')).astype(int)\n",
    "df[\"5 stars\"]=df.Stars.apply(lambda x: str(x[4]).replace(',','')).astype(int)\n",
    "\n",
    "\n",
    "df.Reviews.fillna(0, inplace=True)\n",
    "df['Rating count']=df['Reviews'].apply(rat_cnt)\n",
    "df['Review count']=df['Reviews'].apply(rev_cnt)\n",
    "#df[df['Reviews']!=0]['Rating count']=df[df['Reviews']!=0]['Reviews'].apply(lambda x: x.replace(',','').split(' ')[0])\n",
    "#df[df['Reviews']!=0]['Review count']=df[df['Reviews']!=0]['Reviews'].apply(lambda x: x.replace(',','').split(' ')[3])\n",
    "\n",
    "df.drop(\"Stars\",axis=1,inplace=True)\n",
    "df.drop(\"total\",axis=1,inplace=True)"
   ]
  },
  {
   "cell_type": "code",
   "execution_count": 78,
   "metadata": {},
   "outputs": [
    {
     "data": {
      "text/plain": [
       "Title             0\n",
       "Price             0\n",
       "Rating            0\n",
       "Reviews           0\n",
       "Color             0\n",
       "Seller            0\n",
       "Type            305\n",
       "Fabric            0\n",
       "Ideal for         0\n",
       "Pattern           0\n",
       "Url               0\n",
       "code              0\n",
       "nlp               0\n",
       "1 star            0\n",
       "2 stars           0\n",
       "3 stars           0\n",
       "4 stars           0\n",
       "5 stars           0\n",
       "Rating count      0\n",
       "Review count      0\n",
       "dtype: int64"
      ]
     },
     "execution_count": 78,
     "metadata": {},
     "output_type": "execute_result"
    }
   ],
   "source": [
    "df.isnull().sum()"
   ]
  },
  {
   "cell_type": "markdown",
   "metadata": {},
   "source": [
    "types=list(set(df['Type']))\n",
    "types.remove(None)\n",
    "#print(types)\n",
    "def type_fill(row):\n",
    "    y=row.Title\n",
    "    y=y.split(' ')\n",
    "    if y[-1]=='Women':\n",
    "        return None\n",
    "    return y[-1]\n",
    "\n",
    "\n",
    "def type1_fill(row):\n",
    "    if row['Type'] is None:\n",
    "        for type in types:\n",
    "            print(type)\n",
    "            if type in row['Title']:   # Make case-insensitive\n",
    "                return type\n",
    "    else:\n",
    "        return  row['Type']\n",
    "\n",
    "df['Type']=df.apply(type1_fill,axis=1)\n",
    "df.Type.fillna('Coat',inplace=True)"
   ]
  },
  {
   "cell_type": "code",
   "execution_count": 79,
   "metadata": {},
   "outputs": [],
   "source": [
    "types=list(set(df['Type']))\n",
    "if None in types:\n",
    "    types.remove(None)\n",
    "#print(types)\n",
    "def type_fill(row):\n",
    "    z=row.Title\n",
    "    y=z.split(' ')\n",
    "    if 'Kurta' in z:\n",
    "        return 'Kurta'\n",
    "    elif 'Blazer' in z:\n",
    "        return 'Blazer'\n",
    "    elif 'Top' in z:\n",
    "        return 'Top'\n",
    "    elif 'Jacket' in z:\n",
    "        return 'Jacket'\n",
    "    elif 'Lehenga' in z:\n",
    "        return 'Lehenga'\n",
    "    elif 'Night' in z:\n",
    "        return 'Night Suit'\n",
    "    elif 'Men' in y[-1]:\n",
    "        return 'Shoes'\n",
    "    elif 'Saree' in z:\n",
    "        return 'Saree'\n",
    "\n",
    "    elif 'Women' in y[-1]:\n",
    "        return 'Boots'\n",
    "    elif 'Shoes' in z:\n",
    "        return 'Shoes'\n",
    "    elif 'Suit' in z:\n",
    "        return 'Suit'\n",
    "    return y[-1]\n",
    "\n",
    "\n",
    "def type1_fill(row):\n",
    "    if row['Type'] is None:\n",
    "        for type in types:\n",
    "            #print(type)\n",
    "            if type in row['Title']:   # Make case-insensitive\n",
    "                return type\n",
    "    else:\n",
    "        return  row['Type']\n",
    "df.Type=df.apply(type_fill,axis=1)"
   ]
  },
  {
   "cell_type": "code",
   "execution_count": 80,
   "metadata": {},
   "outputs": [],
   "source": [
    "df.to_json('data/combrided.json')"
   ]
  },
  {
   "cell_type": "code",
   "execution_count": 81,
   "metadata": {},
   "outputs": [
    {
     "data": {
      "text/plain": [
       "Type\n",
       "Shirt       291\n",
       "Trousers    100\n",
       "Kurta        12\n",
       "T-Shirt      10\n",
       "Set          10\n",
       "Shorts        3\n",
       "2)            2\n",
       "Pants         1\n",
       "Cargos        1\n",
       "Name: count, dtype: int64"
      ]
     },
     "execution_count": 81,
     "metadata": {},
     "output_type": "execute_result"
    }
   ],
   "source": [
    "df.Type.value_counts()\n",
    "#df[df.Type=='Dress']"
   ]
  },
  {
   "cell_type": "code",
   "execution_count": 82,
   "metadata": {},
   "outputs": [
    {
     "data": {
      "text/plain": [
       "Title           0\n",
       "Price           0\n",
       "Rating          0\n",
       "Reviews         0\n",
       "Color           0\n",
       "Seller          0\n",
       "Type            0\n",
       "Fabric          0\n",
       "Ideal for       0\n",
       "Pattern         0\n",
       "Url             0\n",
       "code            0\n",
       "nlp             0\n",
       "1 star          0\n",
       "2 stars         0\n",
       "3 stars         0\n",
       "4 stars         0\n",
       "5 stars         0\n",
       "Rating count    0\n",
       "Review count    0\n",
       "dtype: int64"
      ]
     },
     "execution_count": 82,
     "metadata": {},
     "output_type": "execute_result"
    }
   ],
   "source": [
    "df.isnull().sum()"
   ]
  },
  {
   "cell_type": "code",
   "execution_count": 83,
   "metadata": {},
   "outputs": [
    {
     "data": {
      "text/html": [
       "<div>\n",
       "<style scoped>\n",
       "    .dataframe tbody tr th:only-of-type {\n",
       "        vertical-align: middle;\n",
       "    }\n",
       "\n",
       "    .dataframe tbody tr th {\n",
       "        vertical-align: top;\n",
       "    }\n",
       "\n",
       "    .dataframe thead th {\n",
       "        text-align: right;\n",
       "    }\n",
       "</style>\n",
       "<table border=\"1\" class=\"dataframe\">\n",
       "  <thead>\n",
       "    <tr style=\"text-align: right;\">\n",
       "      <th></th>\n",
       "      <th>Title</th>\n",
       "      <th>Price</th>\n",
       "      <th>Rating</th>\n",
       "      <th>Reviews</th>\n",
       "      <th>Color</th>\n",
       "      <th>Seller</th>\n",
       "      <th>Type</th>\n",
       "      <th>Fabric</th>\n",
       "      <th>Ideal for</th>\n",
       "      <th>Pattern</th>\n",
       "      <th>Url</th>\n",
       "      <th>code</th>\n",
       "      <th>nlp</th>\n",
       "      <th>1 star</th>\n",
       "      <th>2 stars</th>\n",
       "      <th>3 stars</th>\n",
       "      <th>4 stars</th>\n",
       "      <th>5 stars</th>\n",
       "      <th>Rating count</th>\n",
       "      <th>Review count</th>\n",
       "    </tr>\n",
       "  </thead>\n",
       "  <tbody>\n",
       "    <tr>\n",
       "      <th>114</th>\n",
       "      <td>Men Slim Fit Striped Slim Collar Casual Shirt ...</td>\n",
       "      <td>499</td>\n",
       "      <td>4.1</td>\n",
       "      <td>36 ratings and 4 reviews</td>\n",
       "      <td>Black, Green, White</td>\n",
       "      <td>COMBRAIDED</td>\n",
       "      <td>2)</td>\n",
       "      <td>Lycra Blend</td>\n",
       "      <td>Men</td>\n",
       "      <td>Striped</td>\n",
       "      <td>https://www.flipkart.com/combraided-men-stripe...</td>\n",
       "      <td>ZJr2VuIxwU</td>\n",
       "      <td>{'Pack of': '2', 'Style Code': 'COMBO_400_BLAC...</td>\n",
       "      <td>3</td>\n",
       "      <td>3</td>\n",
       "      <td>3</td>\n",
       "      <td>6</td>\n",
       "      <td>21</td>\n",
       "      <td>36</td>\n",
       "      <td>36</td>\n",
       "    </tr>\n",
       "    <tr>\n",
       "      <th>195</th>\n",
       "      <td>Men Slim Fit Striped Slim Collar Casual Shirt ...</td>\n",
       "      <td>499</td>\n",
       "      <td>4.1</td>\n",
       "      <td>36 ratings and 4 reviews</td>\n",
       "      <td>Black, Green, White</td>\n",
       "      <td>COMBRAIDED</td>\n",
       "      <td>2)</td>\n",
       "      <td>Lycra Blend</td>\n",
       "      <td>Men</td>\n",
       "      <td>Striped</td>\n",
       "      <td>https://www.flipkart.com/combraided-men-stripe...</td>\n",
       "      <td>jnvfceP260</td>\n",
       "      <td>{'Pack of': '2', 'Style Code': 'COMBO_400_BLAC...</td>\n",
       "      <td>3</td>\n",
       "      <td>3</td>\n",
       "      <td>3</td>\n",
       "      <td>6</td>\n",
       "      <td>21</td>\n",
       "      <td>36</td>\n",
       "      <td>36</td>\n",
       "    </tr>\n",
       "  </tbody>\n",
       "</table>\n",
       "</div>"
      ],
      "text/plain": [
       "                                                 Title  Price  Rating  \\\n",
       "114  Men Slim Fit Striped Slim Collar Casual Shirt ...    499     4.1   \n",
       "195  Men Slim Fit Striped Slim Collar Casual Shirt ...    499     4.1   \n",
       "\n",
       "                      Reviews                Color      Seller Type  \\\n",
       "114  36 ratings and 4 reviews  Black, Green, White  COMBRAIDED   2)   \n",
       "195  36 ratings and 4 reviews  Black, Green, White  COMBRAIDED   2)   \n",
       "\n",
       "          Fabric Ideal for  Pattern  \\\n",
       "114  Lycra Blend       Men  Striped   \n",
       "195  Lycra Blend       Men  Striped   \n",
       "\n",
       "                                                   Url        code  \\\n",
       "114  https://www.flipkart.com/combraided-men-stripe...  ZJr2VuIxwU   \n",
       "195  https://www.flipkart.com/combraided-men-stripe...  jnvfceP260   \n",
       "\n",
       "                                                   nlp  1 star  2 stars  \\\n",
       "114  {'Pack of': '2', 'Style Code': 'COMBO_400_BLAC...       3        3   \n",
       "195  {'Pack of': '2', 'Style Code': 'COMBO_400_BLAC...       3        3   \n",
       "\n",
       "     3 stars  4 stars  5 stars Rating count Review count  \n",
       "114        3        6       21           36           36  \n",
       "195        3        6       21           36           36  "
      ]
     },
     "execution_count": 83,
     "metadata": {},
     "output_type": "execute_result"
    }
   ],
   "source": [
    "df[df.Type=='2)']"
   ]
  },
  {
   "cell_type": "code",
   "execution_count": null,
   "metadata": {},
   "outputs": [],
   "source": []
  }
 ],
 "metadata": {
  "kernelspec": {
   "display_name": "ML_Sep2023_rohan",
   "language": "python",
   "name": "python3"
  },
  "language_info": {
   "codemirror_mode": {
    "name": "ipython",
    "version": 3
   },
   "file_extension": ".py",
   "mimetype": "text/x-python",
   "name": "python",
   "nbconvert_exporter": "python",
   "pygments_lexer": "ipython3",
   "version": "3.11.5"
  }
 },
 "nbformat": 4,
 "nbformat_minor": 2
}
