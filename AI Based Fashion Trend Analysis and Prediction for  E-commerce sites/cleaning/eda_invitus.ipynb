{
 "cells": [
  {
   "cell_type": "code",
   "execution_count": 70,
   "metadata": {},
   "outputs": [],
   "source": [
    "import pandas as pd\n",
    "import random"
   ]
  },
  {
   "cell_type": "code",
   "execution_count": 71,
   "metadata": {},
   "outputs": [
    {
     "name": "stdout",
     "output_type": "stream",
     "text": [
      "<class 'pandas.core.frame.DataFrame'>\n",
      "Index: 985 entries, 0 to 984\n",
      "Data columns (total 80 columns):\n",
      " #   Column              Non-Null Count  Dtype  \n",
      "---  ------              --------------  -----  \n",
      " 0   Unnamed: 0          985 non-null    int64  \n",
      " 1   Title               982 non-null    object \n",
      " 2   Price               981 non-null    object \n",
      " 3   Rating              536 non-null    float64\n",
      " 4   Reviews             596 non-null    object \n",
      " 5   Url                 985 non-null    object \n",
      " 6   Seller              927 non-null    object \n",
      " 7   Fit                 448 non-null    object \n",
      " 8   Occasion            393 non-null    object \n",
      " 9   Color               850 non-null    object \n",
      " 10  Pack of             594 non-null    float64\n",
      " 11  Type                356 non-null    object \n",
      " 12  Suitable For        547 non-null    object \n",
      " 13  Belt Loops          77 non-null     object \n",
      " 14  Rise                107 non-null    object \n",
      " 15  Pattern             625 non-null    object \n",
      " 16  Fabric              660 non-null    object \n",
      " 17  Closure             422 non-null    object \n",
      " 18  Pleats              26 non-null     object \n",
      " 19  Fabric Care         397 non-null    object \n",
      " 20  Fly                 41 non-null     object \n",
      " 21  Net Quantity        845 non-null    object \n",
      " 22  Neck                207 non-null    object \n",
      " 23  Sleeve              408 non-null    object \n",
      " 24  Style Code          500 non-null    object \n",
      " 25  Ideal For           239 non-null    object \n",
      " 26  Reversible          223 non-null    object \n",
      " 27  Other Dimensions    8 non-null      object \n",
      " 28  Secondary Color     27 non-null     object \n",
      " 29  Collar              68 non-null     object \n",
      " 30  Hem                 75 non-null     object \n",
      " 31  Hooded              18 non-null     object \n",
      " 32  Style code          33 non-null     float64\n",
      " 33  Ideal for           275 non-null    object \n",
      " 34  Suitable for        23 non-null     object \n",
      " 35  Fabric care         23 non-null     object \n",
      " 36  Pack Of             12 non-null     float64\n",
      " 37  Faded               12 non-null     object \n",
      " 38  Distressed          12 non-null     object \n",
      " 39  Neck Type           83 non-null     object \n",
      " 40  Size                90 non-null     object \n",
      " 41  Inner material      143 non-null    object \n",
      " 42  Outer material      252 non-null    object \n",
      " 43  Model name          161 non-null    object \n",
      " 44  Type For Casual     77 non-null     object \n",
      " 45  Type For Formal     178 non-null    object \n",
      " 46  Sole material       212 non-null    object \n",
      " 47  Weight              172 non-null    object \n",
      " 48  Upper Pttern        181 non-null    object \n",
      " 49  Sales package       193 non-null    object \n",
      " 50  pack of             208 non-null    float64\n",
      " 51  Technology used     72 non-null     object \n",
      " 52  Tip shape           189 non-null    object \n",
      " 53  Care instructions   195 non-null    object \n",
      " 54  Season              123 non-null    object \n",
      " 55  Sleeve Style        67 non-null     object \n",
      " 56  Sleeve Length       43 non-null     object \n",
      " 57  Length              67 non-null     object \n",
      " 58  Heel Pattern        53 non-null     object \n",
      " 59  Pocket Type         1 non-null      object \n",
      " 60  Secondary color     8 non-null      object \n",
      " 61  Fabric Details      1 non-null      object \n",
      " 62  Model Name          1 non-null      object \n",
      " 63  Belt Width          1 non-null      object \n",
      " 64  Material            1 non-null      object \n",
      " 65  Character           1 non-null      object \n",
      " 66  Brand Fit           7 non-null      object \n",
      " 67  Sales Package       1 non-null      object \n",
      " 68  Strap Material      1 non-null      object \n",
      " 69  Sole Material       3 non-null      object \n",
      " 70  Unnamed: 70         1 non-null      object \n",
      " 71  Type for Flats      15 non-null     object \n",
      " 72  Type for Heels      5 non-null      object \n",
      " 73  Upper Pattern       4 non-null      object \n",
      " 74  Type For Ethnic     3 non-null      object \n",
      " 75  Pck of              1 non-null      float64\n",
      " 76  Brand               6 non-null      object \n",
      " 77  Brand Color         6 non-null      object \n",
      " 78  Number of Leggings  6 non-null      float64\n",
      " 79  total               985 non-null    object \n",
      "dtypes: float64(7), int64(1), object(72)\n",
      "memory usage: 623.3+ KB\n"
     ]
    }
   ],
   "source": [
    "df1=pd.read_json('invitus.json')\n",
    "df1.info()"
   ]
  },
  {
   "cell_type": "code",
   "execution_count": 72,
   "metadata": {},
   "outputs": [],
   "source": [
    "df=df1[['Title','Price','Rating','Reviews','Color','Seller','Type','Fabric','Ideal for','Pattern','total','Url']]\n",
    "df=df[df.Title.notnull()]\n",
    "df=df[df.Seller=='INVICTUS']"
   ]
  },
  {
   "cell_type": "code",
   "execution_count": 73,
   "metadata": {},
   "outputs": [
    {
     "data": {
      "text/plain": [
       "Title          0\n",
       "Price          0\n",
       "Rating       331\n",
       "Reviews      314\n",
       "Color         59\n",
       "Seller         0\n",
       "Type         536\n",
       "Fabric       263\n",
       "Ideal for    473\n",
       "Pattern      275\n",
       "total          0\n",
       "Url            0\n",
       "dtype: int64"
      ]
     },
     "execution_count": 73,
     "metadata": {},
     "output_type": "execute_result"
    }
   ],
   "source": [
    "df.isnull().sum()"
   ]
  },
  {
   "cell_type": "code",
   "execution_count": 74,
   "metadata": {},
   "outputs": [],
   "source": [
    "patterns=list(set(df['Pattern']))\n",
    "if None in patterns:\n",
    "    patterns.remove(None)\n",
    "#unique_patterns = set(patterns)  # Create set outside the function for efficiency\n",
    "def pattern_fill(row):\n",
    "    if row['Pattern'] is None:\n",
    "        for pattern in patterns:\n",
    "            if pattern in row['Title']:\n",
    "                return type\n",
    "        # Handle cases where no match is found (return default, raise error, etc.)\n",
    "    else:\n",
    "        return row['Pattern']\n",
    "\n",
    "\n",
    "colours=list(set(df['Color']))\n",
    "if None in colours:\n",
    "    colours.remove(None)\n",
    "\n",
    "def colour_fill(row):\n",
    "    if row['Color'] is None:\n",
    "        for color in colours:\n",
    "            if color.lower( ) in row['Title'].lower():   # Make case-insensitive\n",
    "                return color\n",
    "    else:\n",
    "        return  row['Color']\n",
    "\n",
    "persons=['Men','Women','Kid','Girl','Boy']\n",
    "def idealfor(row):\n",
    "    for x in persons:\n",
    "        if x.lower( ) in row['Title'].lower():   # Make case-insensitive\n",
    "            return x \n",
    "        \n",
    "\n",
    "\n",
    "def rat_cnt(row):\n",
    "    if row==0:\n",
    "        return 0\n",
    "    x=row.replace(',','')\n",
    "    x=x.split(\" \")\n",
    "    return x[0]\n",
    "\n",
    "\n",
    "def rev_cnt(row):\n",
    "    if row==0:\n",
    "        return 0\n",
    "    x=row.replace(',','')\n",
    "    x=x.split(\" \")\n",
    "    return x[0]"
   ]
  },
  {
   "cell_type": "code",
   "execution_count": 75,
   "metadata": {},
   "outputs": [],
   "source": [
    "df['Pattern'] = df.apply(pattern_fill, axis=1)\n",
    "df['Color'] = df.apply(colour_fill, axis=1)\n",
    "df['Ideal for']=df.apply(idealfor,axis=1)\n",
    "#df['Ideal for'].fillna('Women',inplace=True)\n",
    "df[\"Pattern\"].fillna(random.choice(patterns), inplace=True)\n",
    "df[\"Color\"].fillna(random.choice(colours), inplace=True)\n",
    "fabrics=list(set(df['Fabric']))\n",
    "#if None in fabrics:\n",
    "    #fabrics.remove('None')\n",
    "df[\"Fabric\"].fillna(random.choice(fabrics), inplace=True)\n",
    "#df.Title=df.Title.str.replace(r'\\(....??\\)','')\n",
    "\n",
    "df.Rating=df.Rating.fillna(-1)\n",
    "df['Price']=df['Price'].apply(lambda x: x[1:]).str.replace(',','').astype(int)\n",
    "\n",
    "df[\"code\"]=df.total.apply(lambda x : x[1])\n",
    "df[\"nlp\"]=df.total.apply(lambda x : x[2])\n",
    "df[\"Stars\"]=df.total.apply(lambda x : x[3])\n",
    "\n",
    "df[\"1 star\"]=df.Stars.apply(lambda x : str(x[0]).replace(',','')).astype(int)\n",
    "df[\"2 stars\"]=df.Stars.apply(lambda x : str(x[1]).replace(',','')).astype(int)\n",
    "df[\"3 stars\"]=df.Stars.apply(lambda x: str(x[2]).replace(',','')).astype(int)\n",
    "df[\"4 stars\"]=df.Stars.apply(lambda x: str(x[3]).replace(',','')).astype(int)\n",
    "df[\"5 stars\"]=df.Stars.apply(lambda x: str(x[4]).replace(',','')).astype(int)\n",
    "\n",
    "\n",
    "df.Reviews.fillna(0, inplace=True)\n",
    "df['Rating count']=df['Reviews'].apply(rat_cnt)\n",
    "df['Review count']=df['Reviews'].apply(rev_cnt)\n",
    "#df[df['Reviews']!=0]['Rating count']=df[df['Reviews']!=0]['Reviews'].apply(lambda x: x.replace(',','').split(' ')[0])\n",
    "#df[df['Reviews']!=0]['Review count']=df[df['Reviews']!=0]['Reviews'].apply(lambda x: x.replace(',','').split(' ')[3])\n",
    "\n",
    "df.drop(\"Stars\",axis=1,inplace=True)\n",
    "df.drop(\"total\",axis=1,inplace=True)"
   ]
  },
  {
   "cell_type": "code",
   "execution_count": 76,
   "metadata": {},
   "outputs": [
    {
     "data": {
      "text/plain": [
       "Title             0\n",
       "Price             0\n",
       "Rating            0\n",
       "Reviews           0\n",
       "Color             0\n",
       "Seller            0\n",
       "Type            536\n",
       "Fabric            0\n",
       "Ideal for         0\n",
       "Pattern           0\n",
       "Url               0\n",
       "code              0\n",
       "nlp               0\n",
       "1 star            0\n",
       "2 stars           0\n",
       "3 stars           0\n",
       "4 stars           0\n",
       "5 stars           0\n",
       "Rating count      0\n",
       "Review count      0\n",
       "dtype: int64"
      ]
     },
     "execution_count": 76,
     "metadata": {},
     "output_type": "execute_result"
    }
   ],
   "source": [
    "df.isnull().sum()"
   ]
  },
  {
   "cell_type": "markdown",
   "metadata": {},
   "source": [
    "types=list(set(df['Type']))\n",
    "types.remove(None)\n",
    "#print(types)\n",
    "def type_fill(row):\n",
    "    y=row.Title\n",
    "    y=y.split(' ')\n",
    "    if y[-1]=='Women':\n",
    "        return None\n",
    "    return y[-1]\n",
    "\n",
    "\n",
    "def type1_fill(row):\n",
    "    if row['Type'] is None:\n",
    "        for type in types:\n",
    "            print(type)\n",
    "            if type in row['Title']:   # Make case-insensitive\n",
    "                return type\n",
    "    else:\n",
    "        return  row['Type']\n",
    "\n",
    "df['Type']=df.apply(type1_fill,axis=1)\n",
    "df.Type.fillna('Coat',inplace=True)"
   ]
  },
  {
   "cell_type": "code",
   "execution_count": 77,
   "metadata": {},
   "outputs": [],
   "source": [
    "types=list(set(df['Type']))\n",
    "types.remove(None)\n",
    "#print(types)\n",
    "def type_fill(row):\n",
    "    z=row.Title\n",
    "    y=z.split(' ')\n",
    "    if 'Kurta' in z:\n",
    "        return 'Kurta'\n",
    "    elif 'Blazer' in z:\n",
    "        return 'Blazer'\n",
    "    elif 'Top' in z:\n",
    "        return 'Top'\n",
    "    elif 'Jacket' in z:\n",
    "        return 'Jacket'\n",
    "    elif 'Lehenga' in z:\n",
    "        return 'Lehenga'\n",
    "    elif 'Night' in z:\n",
    "        return 'Night Suit'\n",
    "    elif 'Men' in y[-1]:\n",
    "        return 'Shoes'\n",
    "    elif 'Women' in y[-1]:\n",
    "        return 'Boots'\n",
    "    elif 'Shoes' in z:\n",
    "        return 'Shoes'\n",
    "    return y[-1]\n",
    "\n",
    "\n",
    "def type1_fill(row):\n",
    "    if row['Type'] is None:\n",
    "        for type in types:\n",
    "            #print(type)\n",
    "            if type in row['Title']:   # Make case-insensitive\n",
    "                return type\n",
    "    else:\n",
    "        return  row['Type']\n",
    "df.Type=df.apply(type_fill,axis=1)"
   ]
  },
  {
   "cell_type": "code",
   "execution_count": 78,
   "metadata": {},
   "outputs": [],
   "source": [
    "df.to_json('data/invitus.json')"
   ]
  },
  {
   "cell_type": "code",
   "execution_count": 79,
   "metadata": {},
   "outputs": [
    {
     "data": {
      "text/plain": [
       "Type\n",
       "Shoes         243\n",
       "Shirt         134\n",
       "Sweater       118\n",
       "Trousers      106\n",
       "T-Shirt        59\n",
       "Sweatshirt     18\n",
       "Jacket         17\n",
       "Jeans          12\n",
       "Blazer         10\n",
       "Sandal         10\n",
       "Boots           8\n",
       "Shorts          2\n",
       "Pants           1\n",
       "Belt            1\n",
       "6)              1\n",
       "Suit            1\n",
       "Name: count, dtype: int64"
      ]
     },
     "execution_count": 79,
     "metadata": {},
     "output_type": "execute_result"
    }
   ],
   "source": [
    "df.Type.value_counts()"
   ]
  },
  {
   "cell_type": "code",
   "execution_count": null,
   "metadata": {},
   "outputs": [],
   "source": []
  }
 ],
 "metadata": {
  "kernelspec": {
   "display_name": "ML_Sep2023_rohan",
   "language": "python",
   "name": "python3"
  },
  "language_info": {
   "codemirror_mode": {
    "name": "ipython",
    "version": 3
   },
   "file_extension": ".py",
   "mimetype": "text/x-python",
   "name": "python",
   "nbconvert_exporter": "python",
   "pygments_lexer": "ipython3",
   "version": "3.11.5"
  }
 },
 "nbformat": 4,
 "nbformat_minor": 2
}
