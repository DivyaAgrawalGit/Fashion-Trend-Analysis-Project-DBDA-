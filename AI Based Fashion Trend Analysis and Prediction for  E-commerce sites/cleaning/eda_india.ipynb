{
 "cells": [
  {
   "cell_type": "code",
   "execution_count": 221,
   "metadata": {},
   "outputs": [],
   "source": [
    "import pandas as pd\n",
    "import random"
   ]
  },
  {
   "cell_type": "code",
   "execution_count": 222,
   "metadata": {},
   "outputs": [
    {
     "name": "stdout",
     "output_type": "stream",
     "text": [
      "<class 'pandas.core.frame.DataFrame'>\n",
      "Index: 938 entries, 0 to 937\n",
      "Data columns (total 75 columns):\n",
      " #   Column                               Non-Null Count  Dtype  \n",
      "---  ------                               --------------  -----  \n",
      " 0   Unnamed: 0                           938 non-null    int64  \n",
      " 1   Title                                938 non-null    object \n",
      " 2   Price                                938 non-null    object \n",
      " 3   Rating                               879 non-null    float64\n",
      " 4   Reviews                              885 non-null    object \n",
      " 5   Url                                  938 non-null    object \n",
      " 6   Seller                               938 non-null    object \n",
      " 7   Pack of                              587 non-null    float64\n",
      " 8   Style Code                           718 non-null    object \n",
      " 9   Closure                              528 non-null    object \n",
      " 10  Fit                                  637 non-null    object \n",
      " 11  Fabric                               938 non-null    object \n",
      " 12  Sleeve                               573 non-null    object \n",
      " 13  Pattern                              914 non-null    object \n",
      " 14  Reversible                           649 non-null    object \n",
      " 15  Collar                               374 non-null    object \n",
      " 16  Color                                885 non-null    object \n",
      " 17  Fabric Care                          662 non-null    object \n",
      " 18  Suitable For                         621 non-null    object \n",
      " 19  Hem                                  360 non-null    object \n",
      " 20  Pockets                              155 non-null    object \n",
      " 21  Other Details                        191 non-null    object \n",
      " 22  Net Quantity                         923 non-null    object \n",
      " 23  Type                                 312 non-null    object \n",
      " 24  Secondary Color                      188 non-null    object \n",
      " 25  Other Dimensions                     12 non-null     object \n",
      " 26  Ideal For                            242 non-null    object \n",
      " 27  Pack Of                              102 non-null    float64\n",
      " 28  Faded                                102 non-null    object \n",
      " 29  Rise                                 156 non-null    object \n",
      " 30  Distressed                           102 non-null    object \n",
      " 31  Sales Package                        21 non-null     object \n",
      " 32  Neck Type                            21 non-null     object \n",
      " 33  Size                                 53 non-null     object \n",
      " 34  Pocket Type                          23 non-null     object \n",
      " 35  Occasion                             142 non-null    object \n",
      " 36  Alteration Required                  50 non-null     object \n",
      " 37  Belt Loops                           49 non-null     object \n",
      " 38  Pleats                               46 non-null     object \n",
      " 39  Fly                                  55 non-null     object \n",
      " 40  Fabric Details                       72 non-null     object \n",
      " 41  Stretchable                          15 non-null     object \n",
      " 42  Unnamed: 42                          65 non-null     object \n",
      " 43  Style code                           110 non-null    object \n",
      " 44  Pck of                               11 non-null     float64\n",
      " 45  Sales package                        9 non-null      object \n",
      " 46  Other details                        55 non-null     object \n",
      " 47  Other dimensions                     9 non-null      object \n",
      " 48  Neck                                 86 non-null     object \n",
      " 49  Hooded                               92 non-null     object \n",
      " 50  Series                               40 non-null     object \n",
      " 51  Number of Contents in Sales Package  83 non-null     object \n",
      " 52  Ideal for                            99 non-null     object \n",
      " 53  Suitable for                         96 non-null     object \n",
      " 54  Fabric care                          100 non-null    object \n",
      " 55  Character                            3 non-null      object \n",
      " 56  Inseam Length                        15 non-null     object \n",
      " 57  Cuff                                 2 non-null      object \n",
      " 58  Length Type                          5 non-null      object \n",
      " 59  Brand Color                          34 non-null     object \n",
      " 60  Rise in inch                         7 non-null      object \n",
      " 61  Number of Track Pants                29 non-null     float64\n",
      " 62  Brand                                32 non-null     object \n",
      " 63  Primary Color                        32 non-null     object \n",
      " 64  Group ID                             29 non-null     object \n",
      " 65  Brand color                          3 non-null      object \n",
      " 66  Label size                           3 non-null      float64\n",
      " 67  Primary product type                 3 non-null      object \n",
      " 68  Secondary product type               3 non-null      object \n",
      " 69  Suitabl for                          3 non-null      object \n",
      " 70  Fabric details                       3 non-null      object \n",
      " 71  Brand Fit                            2 non-null      object \n",
      " 72  Sleeve Type                          2 non-null      object \n",
      " 73  Model Name                           3 non-null      object \n",
      " 74  total                                938 non-null    object \n",
      "dtypes: float64(6), int64(1), object(68)\n",
      "memory usage: 556.9+ KB\n"
     ]
    }
   ],
   "source": [
    "df1=pd.read_json('india.json')\n",
    "df1.info()"
   ]
  },
  {
   "cell_type": "code",
   "execution_count": 223,
   "metadata": {},
   "outputs": [],
   "source": [
    "df=df1[['Title','Price','Rating','Reviews','Color','Seller','Type','Fabric','Ideal for','Pattern','total','Url']]\n",
    "df=df[df.Title.notnull()]\n",
    "df=df[df.Seller=='The Indian Garage Co.']"
   ]
  },
  {
   "cell_type": "code",
   "execution_count": 224,
   "metadata": {},
   "outputs": [
    {
     "data": {
      "text/plain": [
       "Title          0\n",
       "Price          0\n",
       "Rating        55\n",
       "Reviews       49\n",
       "Color         14\n",
       "Seller         0\n",
       "Type         554\n",
       "Fabric         0\n",
       "Ideal for    688\n",
       "Pattern       24\n",
       "total          0\n",
       "Url            0\n",
       "dtype: int64"
      ]
     },
     "execution_count": 224,
     "metadata": {},
     "output_type": "execute_result"
    }
   ],
   "source": [
    "df.isnull().sum()"
   ]
  },
  {
   "cell_type": "code",
   "execution_count": 225,
   "metadata": {},
   "outputs": [],
   "source": [
    "patterns=list(set(df['Pattern']))\n",
    "patterns.remove(None)\n",
    "#unique_patterns = set(patterns)  # Create set outside the function for efficiency\n",
    "def pattern_fill(row):\n",
    "    if row['Pattern'] is None:\n",
    "        for pattern in patterns:\n",
    "            if pattern in row['Title']:\n",
    "                return type\n",
    "        # Handle cases where no match is found (return default, raise error, etc.)\n",
    "    else:\n",
    "        return row['Pattern']\n",
    "\n",
    "\n",
    "colours=list(set(df['Color']))\n",
    "colours.remove(None)\n",
    "\n",
    "def colour_fill(row):\n",
    "    if row['Color'] is None:\n",
    "        for color in colours:\n",
    "            if color.lower( ) in row['Title'].lower():   # Make case-insensitive\n",
    "                return color\n",
    "    else:\n",
    "        return  row['Color']\n",
    "\n",
    "persons=['Men','Women','Kid']\n",
    "def idealfor(row):\n",
    "    for x in persons:\n",
    "        if x.lower( ) in row['Title'].lower():   # Make case-insensitive\n",
    "            return x \n",
    "        \n",
    "\n",
    "\n",
    "def rat_cnt(row):\n",
    "    if row==0:\n",
    "        return 0\n",
    "    x=row.replace(',','')\n",
    "    x=x.split(\" \")\n",
    "    return x[0]\n",
    "\n",
    "\n",
    "def rev_cnt(row):\n",
    "    if row==0:\n",
    "        return 0\n",
    "    x=row.replace(',','')\n",
    "    x=x.split(\" \")\n",
    "    return x[0]"
   ]
  },
  {
   "cell_type": "code",
   "execution_count": 226,
   "metadata": {},
   "outputs": [],
   "source": [
    "df['Pattern'] = df.apply(pattern_fill, axis=1)\n",
    "df['Color'] = df.apply(colour_fill, axis=1)\n",
    "df['Ideal for']=df.apply(idealfor,axis=1)\n",
    "df[\"Pattern\"].fillna(random.choice(patterns), inplace=True)\n",
    "df[\"Color\"].fillna(random.choice(colours), inplace=True)\n",
    "fabrics=list(set(df['Fabric']))\n",
    "df[\"Fabric\"].fillna(random.choice(fabrics), inplace=True)\n",
    "#df.Title=df.Title.str.replace(r'\\(....??\\)','')\n",
    "\n",
    "df.Rating=df.Rating.fillna(-1)\n",
    "df['Price']=df['Price'].apply(lambda x: x[1:]).str.replace(',','').astype(int)\n",
    "\n",
    "df[\"code\"]=df.total.apply(lambda x : x[1])\n",
    "df[\"nlp\"]=df.total.apply(lambda x : x[2])\n",
    "df[\"Stars\"]=df.total.apply(lambda x : x[3])\n",
    "\n",
    "df[\"1 star\"]=df.Stars.apply(lambda x : str(x[0]).replace(',','')).astype(int)\n",
    "df[\"2 stars\"]=df.Stars.apply(lambda x : str(x[1]).replace(',','')).astype(int)\n",
    "df[\"3 stars\"]=df.Stars.apply(lambda x: str(x[2]).replace(',','')).astype(int)\n",
    "df[\"4 stars\"]=df.Stars.apply(lambda x: str(x[3]).replace(',','')).astype(int)\n",
    "df[\"5 stars\"]=df.Stars.apply(lambda x: str(x[4]).replace(',','')).astype(int)\n",
    "\n",
    "\n",
    "df.Reviews.fillna(0, inplace=True)\n",
    "df['Rating count']=df['Reviews'].apply(rat_cnt)\n",
    "df['Review count']=df['Reviews'].apply(rev_cnt)\n",
    "#df[df['Reviews']!=0]['Rating count']=df[df['Reviews']!=0]['Reviews'].apply(lambda x: x.replace(',','').split(' ')[0])\n",
    "#df[df['Reviews']!=0]['Review count']=df[df['Reviews']!=0]['Reviews'].apply(lambda x: x.replace(',','').split(' ')[3])\n",
    "\n",
    "df.drop(\"Stars\",axis=1,inplace=True)\n",
    "df.drop(\"total\",axis=1,inplace=True)"
   ]
  },
  {
   "cell_type": "code",
   "execution_count": 227,
   "metadata": {},
   "outputs": [
    {
     "data": {
      "text/plain": [
       "Title             0\n",
       "Price             0\n",
       "Rating            0\n",
       "Reviews           0\n",
       "Color             0\n",
       "Seller            0\n",
       "Type            554\n",
       "Fabric            0\n",
       "Ideal for         0\n",
       "Pattern           0\n",
       "Url               0\n",
       "code              0\n",
       "nlp               0\n",
       "1 star            0\n",
       "2 stars           0\n",
       "3 stars           0\n",
       "4 stars           0\n",
       "5 stars           0\n",
       "Rating count      0\n",
       "Review count      0\n",
       "dtype: int64"
      ]
     },
     "execution_count": 227,
     "metadata": {},
     "output_type": "execute_result"
    }
   ],
   "source": [
    "df.isnull().sum()"
   ]
  },
  {
   "cell_type": "markdown",
   "metadata": {},
   "source": [
    "types=list(set(df['Type']))\n",
    "types.remove(None)\n",
    "#print(types)\n",
    "def type_fill(row):\n",
    "    y=row.Title\n",
    "    y=y.split(' ')\n",
    "    if y[-1]=='Women':\n",
    "        return None\n",
    "    return y[-1]\n",
    "\n",
    "\n",
    "def type1_fill(row):\n",
    "    if row['Type'] is None:\n",
    "        for type in types:\n",
    "            print(type)\n",
    "            if type in row['Title']:   # Make case-insensitive\n",
    "                return type\n",
    "    else:\n",
    "        return  row['Type']\n",
    "\n",
    "df['Type']=df.apply(type1_fill,axis=1)\n",
    "df.Type.fillna('Coat',inplace=True)"
   ]
  },
  {
   "cell_type": "code",
   "execution_count": 228,
   "metadata": {},
   "outputs": [],
   "source": [
    "types=list(set(df['Type']))\n",
    "types.remove(None)\n",
    "#print(types)\n",
    "def type_fill(row):\n",
    "    y=row.Title\n",
    "    y=y.split(' ')\n",
    "    if 'Kurta' in y[-1]:\n",
    "        return 'Kurta'\n",
    "    elif 'Blazer' in y[-1]:\n",
    "        return 'Blazer'\n",
    "    elif 'Printed' in y[-1]:\n",
    "        return 'Night suit'\n",
    "    return y[-1]\n",
    "\n",
    "\n",
    "def type1_fill(row):\n",
    "    if row['Type'] is None:\n",
    "        for type in types:\n",
    "            #print(type)\n",
    "            if type in row['Title']:   # Make case-insensitive\n",
    "                return type\n",
    "    else:\n",
    "        return  row['Type']\n",
    "df.Type=df.apply(type_fill,axis=1)"
   ]
  },
  {
   "cell_type": "code",
   "execution_count": 229,
   "metadata": {},
   "outputs": [
    {
     "data": {
      "text/plain": [
       "Type\n",
       "Shirt         396\n",
       "Jeans         102\n",
       "Jacket         89\n",
       "Trousers       60\n",
       "Shorts         42\n",
       "Sweatshirt     21\n",
       "Cargos         16\n",
       "T-Shirt        14\n",
       "Blazer         11\n",
       "Pants           8\n",
       "Pyjama          6\n",
       "Kurta           5\n",
       "Sweater         5\n",
       "Night suit      2\n",
       "Name: count, dtype: int64"
      ]
     },
     "execution_count": 229,
     "metadata": {},
     "output_type": "execute_result"
    }
   ],
   "source": [
    "df.Type.value_counts()"
   ]
  },
  {
   "cell_type": "code",
   "execution_count": 231,
   "metadata": {},
   "outputs": [
    {
     "data": {
      "text/plain": [
       "Title           0\n",
       "Price           0\n",
       "Rating          0\n",
       "Reviews         0\n",
       "Color           0\n",
       "Seller          0\n",
       "Type            0\n",
       "Fabric          0\n",
       "Ideal for       0\n",
       "Pattern         0\n",
       "Url             0\n",
       "code            0\n",
       "nlp             0\n",
       "1 star          0\n",
       "2 stars         0\n",
       "3 stars         0\n",
       "4 stars         0\n",
       "5 stars         0\n",
       "Rating count    0\n",
       "Review count    0\n",
       "dtype: int64"
      ]
     },
     "execution_count": 231,
     "metadata": {},
     "output_type": "execute_result"
    }
   ],
   "source": [
    "df.isnull().sum()"
   ]
  },
  {
   "cell_type": "code",
   "execution_count": 232,
   "metadata": {},
   "outputs": [],
   "source": [
    "df.to_json('data/india.json')"
   ]
  },
  {
   "cell_type": "code",
   "execution_count": null,
   "metadata": {},
   "outputs": [],
   "source": []
  }
 ],
 "metadata": {
  "kernelspec": {
   "display_name": "ML_Sep2023_rohan",
   "language": "python",
   "name": "python3"
  },
  "language_info": {
   "codemirror_mode": {
    "name": "ipython",
    "version": 3
   },
   "file_extension": ".py",
   "mimetype": "text/x-python",
   "name": "python",
   "nbconvert_exporter": "python",
   "pygments_lexer": "ipython3",
   "version": "3.11.5"
  }
 },
 "nbformat": 4,
 "nbformat_minor": 2
}
