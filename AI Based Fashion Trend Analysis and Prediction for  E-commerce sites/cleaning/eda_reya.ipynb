{
 "cells": [
  {
   "cell_type": "code",
   "execution_count": 91,
   "metadata": {},
   "outputs": [],
   "source": [
    "import pandas as pd\n",
    "import random"
   ]
  },
  {
   "cell_type": "code",
   "execution_count": 92,
   "metadata": {},
   "outputs": [
    {
     "name": "stdout",
     "output_type": "stream",
     "text": [
      "<class 'pandas.core.frame.DataFrame'>\n",
      "Index: 478 entries, 0 to 477\n",
      "Data columns (total 91 columns):\n",
      " #   Column                               Non-Null Count  Dtype  \n",
      "---  ------                               --------------  -----  \n",
      " 0   Unnamed: 0                           478 non-null    int64  \n",
      " 1   Title                                478 non-null    object \n",
      " 2   Price                                478 non-null    object \n",
      " 3   Rating                               251 non-null    float64\n",
      " 4   Reviews                              265 non-null    object \n",
      " 5   Url                                  478 non-null    object \n",
      " 6   Seller                               459 non-null    object \n",
      " 7   Color                                386 non-null    object \n",
      " 8   Fabric                               454 non-null    object \n",
      " 9   Pattern                              454 non-null    object \n",
      " 10  Style code                           31 non-null     object \n",
      " 11  Ideal for                            26 non-null     object \n",
      " 12  Sleeve                               134 non-null    object \n",
      " 13  Character                            1 non-null      object \n",
      " 14  Closure                              37 non-null     object \n",
      " 15  Pack of                              103 non-null    float64\n",
      " 16  Suitable for                         26 non-null     object \n",
      " 17  Reversible                           89 non-null     object \n",
      " 18  Type                                 375 non-null    object \n",
      " 19  Fabric care                          30 non-null     object \n",
      " 20  Neck                                 85 non-null     object \n",
      " 21  Net Quantity                         165 non-null    float64\n",
      " 22  Sales Package                        362 non-null    object \n",
      " 23  Ideal For                            327 non-null    object \n",
      " 24  Occasion                             326 non-null    object \n",
      " 25  Fabric Care                          401 non-null    object \n",
      " 26  Style Code                           418 non-null    object \n",
      " 27  Bottom Length                        237 non-null    object \n",
      " 28  Dupatta Length                       237 non-null    object \n",
      " 29  Top Length                           239 non-null    object \n",
      " 30  Stitching Type                       260 non-null    object \n",
      " 31  Pattern/Print Type                   61 non-null     object \n",
      " 32  Other Details                        31 non-null     object \n",
      " 33  Top Fabric                           11 non-null     object \n",
      " 34  Dupatta Fabric                       11 non-null     object \n",
      " 35  Bottom Fabric                        9 non-null      object \n",
      " 36  Fit                                  69 non-null     object \n",
      " 37  Neck Type                            61 non-null     object \n",
      " 38  Size                                 61 non-null     object \n",
      " 39  Suitable For                         105 non-null    object \n",
      " 40  Sleeve Type                          21 non-null     object \n",
      " 41  Secondary Color                      33 non-null     object \n",
      " 42  Brand Fit                            12 non-null     object \n",
      " 43  Series                               8 non-null      object \n",
      " 44  Top Width                            8 non-null      object \n",
      " 45  Dupatta Width                        7 non-null      object \n",
      " 46  Suit Length                          7 non-null      object \n",
      " 47  Bottom Width                         7 non-null      object \n",
      " 48  Suit Width                           7 non-null      object \n",
      " 49  Length Type                          4 non-null      object \n",
      " 50  Brand Color                          4 non-null      object \n",
      " 51  Number of Contents in Sales Package  6 non-null      object \n",
      " 52  Package contains                     3 non-null      object \n",
      " 53  Hooded                               41 non-null     object \n",
      " 54  Blouse Piece                         8 non-null      object \n",
      " 55  Sari Style                           8 non-null      object \n",
      " 56  Sari Length                          8 non-null      object \n",
      " 57  Blouse Piece Length                  8 non-null      object \n",
      " 58  Weight                               7 non-null      object \n",
      " 59  Decorative Material                  5 non-null      object \n",
      " 60  Embroidery                           2 non-null      object \n",
      " 61  Top fabric                           4 non-null      object \n",
      " 62  Bottom fabric                        4 non-null      object \n",
      " 63  Top type                             6 non-null      object \n",
      " 64  Bottom type                          6 non-null      object \n",
      " 65  Lehenga Fabric                       4 non-null      object \n",
      " 66  Choli Fabric                         4 non-null      object \n",
      " 67  Embroidered                          3 non-null      object \n",
      " 68  Dupatta                              4 non-null      object \n",
      " 69  Unnamed: 69                          6 non-null      object \n",
      " 70  Belt Loops                           3 non-null      object \n",
      " 71  Rise                                 3 non-null      object \n",
      " 72  Pleats                               3 non-null      object \n",
      " 73  Work                                 1 non-null      object \n",
      " 74  Secondary color                      3 non-null      object \n",
      " 75  Lining material                      1 non-null      object \n",
      " 76  Pockets                              27 non-null     object \n",
      " 77  Model Name                           31 non-null     object \n",
      " 78  Collar                               2 non-null      object \n",
      " 79  Knit Type                            4 non-null      object \n",
      " 80  Fastener                             2 non-null      object \n",
      " 81  Other details                        1 non-null      object \n",
      " 82  Other dimensions                     2 non-null      object \n",
      " 83  Sales package                        2 non-null      object \n",
      " 84  Sleeve Style                         5 non-null      object \n",
      " 85  Number of Card Slots                 1 non-null      float64\n",
      " 86  Material                             1 non-null      object \n",
      " 87  Width                                1 non-null      object \n",
      " 88  Height                               1 non-null      object \n",
      " 89  Construction Type                    2 non-null      object \n",
      " 90  total                                478 non-null    object \n",
      "dtypes: float64(4), int64(1), object(86)\n",
      "memory usage: 343.6+ KB\n"
     ]
    }
   ],
   "source": [
    "df1=pd.read_json('reya.json')\n",
    "df1.info()"
   ]
  },
  {
   "cell_type": "code",
   "execution_count": 93,
   "metadata": {},
   "outputs": [
    {
     "data": {
      "text/plain": [
       "Seller\n",
       "Reya                 398\n",
       "FARBOT                32\n",
       "JOCKEY                 7\n",
       "TopiBaaz               5\n",
       "JUSTAPOSE              5\n",
       "INKKR                  3\n",
       "Divastri               3\n",
       "Reya forthequeens      2\n",
       "KARN KAWACH            1\n",
       "PUMA                   1\n",
       "ASTEYAM                1\n",
       "SY Gifts               1\n",
       "Name: count, dtype: int64"
      ]
     },
     "execution_count": 93,
     "metadata": {},
     "output_type": "execute_result"
    }
   ],
   "source": [
    "df1.Seller.value_counts()"
   ]
  },
  {
   "cell_type": "code",
   "execution_count": 94,
   "metadata": {},
   "outputs": [],
   "source": [
    "df=df1[['Title','Price','Rating','Reviews','Color','Seller','Type','Fabric','Ideal for','Pattern','total','Url']]\n",
    "df=df[df.Title.notnull()]\n",
    "df=df[df.Seller=='Reya']"
   ]
  },
  {
   "cell_type": "code",
   "execution_count": 95,
   "metadata": {},
   "outputs": [
    {
     "data": {
      "text/plain": [
       "Title          0\n",
       "Price          0\n",
       "Rating       185\n",
       "Reviews      179\n",
       "Color         58\n",
       "Seller         0\n",
       "Type          48\n",
       "Fabric         4\n",
       "Ideal for    372\n",
       "Pattern        0\n",
       "total          0\n",
       "Url            0\n",
       "dtype: int64"
      ]
     },
     "execution_count": 95,
     "metadata": {},
     "output_type": "execute_result"
    }
   ],
   "source": [
    "df.isnull().sum()"
   ]
  },
  {
   "cell_type": "code",
   "execution_count": 96,
   "metadata": {},
   "outputs": [],
   "source": [
    "patterns=list(set(df['Pattern']))\n",
    "if None in patterns:\n",
    "    patterns.remove(None)\n",
    "#unique_patterns = set(patterns)  # Create set outside the function for efficiency\n",
    "def pattern_fill(row):\n",
    "    if row['Pattern'] is None:\n",
    "        for pattern in patterns:\n",
    "            if pattern in row['Title']:\n",
    "                return type\n",
    "        # Handle cases where no match is found (return default, raise error, etc.)\n",
    "    else:\n",
    "        return row['Pattern']\n",
    "\n",
    "\n",
    "colours=list(set(df['Color']))\n",
    "if None in colours:\n",
    "    colours.remove(None)\n",
    "\n",
    "def colour_fill(row):\n",
    "    if row['Color'] is None:\n",
    "        for color in colours:\n",
    "            if color.lower( ) in row['Title'].lower():   # Make case-insensitive\n",
    "                return color\n",
    "    else:\n",
    "        return  row['Color']\n",
    "\n",
    "persons=['Men','Women','Kid','Girl','Boy']\n",
    "def idealfor(row):\n",
    "    z=row['Title']\n",
    "    for x in persons:\n",
    "        if x in z:   # Make case-insensitive\n",
    "            return x \n",
    "        elif 'Suit':\n",
    "            return 'Men'\n",
    "        elif 'Lehenga' in z:\n",
    "            return 'Women'\n",
    "        \n",
    "\n",
    "\n",
    "def rat_cnt(row):\n",
    "    if row==0:\n",
    "        return 0\n",
    "    x=row.replace(',','')\n",
    "    x=x.split(\" \")\n",
    "    return x[0]\n",
    "\n",
    "\n",
    "def rev_cnt(row):\n",
    "    if row==0:\n",
    "        return 0\n",
    "    x=row.replace(',','')\n",
    "    x=x.split(\" \")\n",
    "    return x[0]"
   ]
  },
  {
   "cell_type": "code",
   "execution_count": 97,
   "metadata": {},
   "outputs": [],
   "source": [
    "df['Pattern'] = df.apply(pattern_fill, axis=1)\n",
    "df['Color'] = df.apply(colour_fill, axis=1)\n",
    "df['Ideal for']=df.apply(idealfor,axis=1)\n",
    "#df['Ideal for'].fillna('Women',inplace=True)\n",
    "df[\"Pattern\"].fillna(random.choice(patterns), inplace=True)\n",
    "df[\"Color\"].fillna(random.choice(colours), inplace=True)\n",
    "fabrics=list(set(df['Fabric']))\n",
    "#if None in fabrics:\n",
    "#    fabrics.remove('None')\n",
    "df[\"Fabric\"].fillna(random.choice(fabrics), inplace=True)\n",
    "#df.Title=df.Title.str.replace(r'\\(....??\\)','')\n",
    "\n",
    "df.Rating=df.Rating.fillna(-1)\n",
    "df['Price']=df['Price'].apply(lambda x: x[1:]).str.replace(',','').astype(int)\n",
    "\n",
    "df[\"code\"]=df.total.apply(lambda x : x[1])\n",
    "df[\"nlp\"]=df.total.apply(lambda x : x[2])\n",
    "df[\"Stars\"]=df.total.apply(lambda x : x[3])\n",
    "\n",
    "df[\"1 star\"]=df.Stars.apply(lambda x : str(x[0]).replace(',','')).astype(int)\n",
    "df[\"2 stars\"]=df.Stars.apply(lambda x : str(x[1]).replace(',','')).astype(int)\n",
    "df[\"3 stars\"]=df.Stars.apply(lambda x: str(x[2]).replace(',','')).astype(int)\n",
    "df[\"4 stars\"]=df.Stars.apply(lambda x: str(x[3]).replace(',','')).astype(int)\n",
    "df[\"5 stars\"]=df.Stars.apply(lambda x: str(x[4]).replace(',','')).astype(int)\n",
    "\n",
    "\n",
    "df.Reviews.fillna(0, inplace=True)\n",
    "df['Rating count']=df['Reviews'].apply(rat_cnt)\n",
    "df['Review count']=df['Reviews'].apply(rev_cnt)\n",
    "#df[df['Reviews']!=0]['Rating count']=df[df['Reviews']!=0]['Reviews'].apply(lambda x: x.replace(',','').split(' ')[0])\n",
    "#df[df['Reviews']!=0]['Review count']=df[df['Reviews']!=0]['Reviews'].apply(lambda x: x.replace(',','').split(' ')[3])\n",
    "\n",
    "df.drop(\"Stars\",axis=1,inplace=True)\n",
    "df.drop(\"total\",axis=1,inplace=True)"
   ]
  },
  {
   "cell_type": "code",
   "execution_count": 98,
   "metadata": {},
   "outputs": [
    {
     "data": {
      "text/plain": [
       "Title            0\n",
       "Price            0\n",
       "Rating           0\n",
       "Reviews          0\n",
       "Color            0\n",
       "Seller           0\n",
       "Type            48\n",
       "Fabric           0\n",
       "Ideal for        0\n",
       "Pattern          0\n",
       "Url              0\n",
       "code             0\n",
       "nlp              0\n",
       "1 star           0\n",
       "2 stars          0\n",
       "3 stars          0\n",
       "4 stars          0\n",
       "5 stars          0\n",
       "Rating count     0\n",
       "Review count     0\n",
       "dtype: int64"
      ]
     },
     "execution_count": 98,
     "metadata": {},
     "output_type": "execute_result"
    }
   ],
   "source": [
    "df.isnull().sum()"
   ]
  },
  {
   "cell_type": "markdown",
   "metadata": {},
   "source": [
    "types=list(set(df['Type']))\n",
    "types.remove(None)\n",
    "#print(types)\n",
    "def type_fill(row):\n",
    "    y=row.Title\n",
    "    y=y.split(' ')\n",
    "    if y[-1]=='Women':\n",
    "        return None\n",
    "    return y[-1]\n",
    "\n",
    "\n",
    "def type1_fill(row):\n",
    "    if row['Type'] is None:\n",
    "        for type in types:\n",
    "            print(type)\n",
    "            if type in row['Title']:   # Make case-insensitive\n",
    "                return type\n",
    "    else:\n",
    "        return  row['Type']\n",
    "\n",
    "df['Type']=df.apply(type1_fill,axis=1)\n",
    "df.Type.fillna('Coat',inplace=True)"
   ]
  },
  {
   "cell_type": "code",
   "execution_count": 99,
   "metadata": {},
   "outputs": [],
   "source": [
    "types=list(set(df['Type']))\n",
    "if None in types:\n",
    "    types.remove(None)\n",
    "#print(types)\n",
    "def type_fill(row):\n",
    "    z=row.Title\n",
    "    y=z.split(' ')\n",
    "    if 'Kurta' in z:\n",
    "        return 'Kurta'\n",
    "    elif 'Blazer' in z:\n",
    "        return 'Blazer'\n",
    "    elif 'Top' in z:\n",
    "        return 'Top'\n",
    "    elif 'Jacket' in z:\n",
    "        return 'Jacket'\n",
    "    elif 'Lehenga' in z:\n",
    "        return 'Lehenga'\n",
    "    elif 'Night' in z:\n",
    "        return 'Night Suit'\n",
    "    elif 'Men' in y[-1]:\n",
    "        return 'Shoes'\n",
    "    elif 'Saree' in z:\n",
    "        return 'Saree'\n",
    "    elif 'Women' in y[-1]:\n",
    "        return 'Boots'\n",
    "    elif 'Shoes' in z:\n",
    "        return 'Shoes'\n",
    "    elif 'Suit' in z:\n",
    "        return 'Suit'\n",
    "    return y[-1]\n",
    "\n",
    "\n",
    "def type1_fill(row):\n",
    "    if row['Type'] is None:\n",
    "        for type in types:\n",
    "            #print(type)\n",
    "            if type in row['Title']:   # Make case-insensitive\n",
    "                return type\n",
    "    else:\n",
    "        return  row['Type']\n",
    "df.Type=df.apply(type_fill,axis=1)"
   ]
  },
  {
   "cell_type": "code",
   "execution_count": 100,
   "metadata": {},
   "outputs": [],
   "source": [
    "df.to_json('data/reya.json')"
   ]
  },
  {
   "cell_type": "code",
   "execution_count": 101,
   "metadata": {},
   "outputs": [
    {
     "data": {
      "text/plain": [
       "Type\n",
       "Suit          255\n",
       "T-Shirt        50\n",
       "Kurta          35\n",
       "Jacket         26\n",
       "Sweatshirt     11\n",
       "Pants           9\n",
       "Saree           4\n",
       "Lehenga         4\n",
       "Trousers        3\n",
       "Printed         1\n",
       "Name: count, dtype: int64"
      ]
     },
     "execution_count": 101,
     "metadata": {},
     "output_type": "execute_result"
    }
   ],
   "source": [
    "df.Type.value_counts()\n",
    "#df[df.Type=='Dress']"
   ]
  },
  {
   "cell_type": "code",
   "execution_count": 102,
   "metadata": {},
   "outputs": [
    {
     "data": {
      "text/plain": [
       "Title           0\n",
       "Price           0\n",
       "Rating          0\n",
       "Reviews         0\n",
       "Color           0\n",
       "Seller          0\n",
       "Type            0\n",
       "Fabric          0\n",
       "Ideal for       0\n",
       "Pattern         0\n",
       "Url             0\n",
       "code            0\n",
       "nlp             0\n",
       "1 star          0\n",
       "2 stars         0\n",
       "3 stars         0\n",
       "4 stars         0\n",
       "5 stars         0\n",
       "Rating count    0\n",
       "Review count    0\n",
       "dtype: int64"
      ]
     },
     "execution_count": 102,
     "metadata": {},
     "output_type": "execute_result"
    }
   ],
   "source": [
    "df.isnull().sum()"
   ]
  },
  {
   "cell_type": "code",
   "execution_count": 103,
   "metadata": {},
   "outputs": [
    {
     "data": {
      "text/html": [
       "<div>\n",
       "<style scoped>\n",
       "    .dataframe tbody tr th:only-of-type {\n",
       "        vertical-align: middle;\n",
       "    }\n",
       "\n",
       "    .dataframe tbody tr th {\n",
       "        vertical-align: top;\n",
       "    }\n",
       "\n",
       "    .dataframe thead th {\n",
       "        text-align: right;\n",
       "    }\n",
       "</style>\n",
       "<table border=\"1\" class=\"dataframe\">\n",
       "  <thead>\n",
       "    <tr style=\"text-align: right;\">\n",
       "      <th></th>\n",
       "      <th>Title</th>\n",
       "      <th>Price</th>\n",
       "      <th>Rating</th>\n",
       "      <th>Reviews</th>\n",
       "      <th>Color</th>\n",
       "      <th>Seller</th>\n",
       "      <th>Type</th>\n",
       "      <th>Fabric</th>\n",
       "      <th>Ideal for</th>\n",
       "      <th>Pattern</th>\n",
       "      <th>Url</th>\n",
       "      <th>code</th>\n",
       "      <th>nlp</th>\n",
       "      <th>1 star</th>\n",
       "      <th>2 stars</th>\n",
       "      <th>3 stars</th>\n",
       "      <th>4 stars</th>\n",
       "      <th>5 stars</th>\n",
       "      <th>Rating count</th>\n",
       "      <th>Review count</th>\n",
       "    </tr>\n",
       "  </thead>\n",
       "  <tbody>\n",
       "  </tbody>\n",
       "</table>\n",
       "</div>"
      ],
      "text/plain": [
       "Empty DataFrame\n",
       "Columns: [Title, Price, Rating, Reviews, Color, Seller, Type, Fabric, Ideal for, Pattern, Url, code, nlp, 1 star, 2 stars, 3 stars, 4 stars, 5 stars, Rating count, Review count]\n",
       "Index: []"
      ]
     },
     "execution_count": 103,
     "metadata": {},
     "output_type": "execute_result"
    }
   ],
   "source": [
    "df[df['Ideal for'].isnull()]"
   ]
  },
  {
   "cell_type": "code",
   "execution_count": 105,
   "metadata": {},
   "outputs": [
    {
     "data": {
      "text/html": [
       "<div>\n",
       "<style scoped>\n",
       "    .dataframe tbody tr th:only-of-type {\n",
       "        vertical-align: middle;\n",
       "    }\n",
       "\n",
       "    .dataframe tbody tr th {\n",
       "        vertical-align: top;\n",
       "    }\n",
       "\n",
       "    .dataframe thead th {\n",
       "        text-align: right;\n",
       "    }\n",
       "</style>\n",
       "<table border=\"1\" class=\"dataframe\">\n",
       "  <thead>\n",
       "    <tr style=\"text-align: right;\">\n",
       "      <th></th>\n",
       "      <th>Title</th>\n",
       "      <th>Price</th>\n",
       "      <th>Rating</th>\n",
       "      <th>Reviews</th>\n",
       "      <th>Color</th>\n",
       "      <th>Seller</th>\n",
       "      <th>Type</th>\n",
       "      <th>Fabric</th>\n",
       "      <th>Ideal for</th>\n",
       "      <th>Pattern</th>\n",
       "      <th>Url</th>\n",
       "      <th>code</th>\n",
       "      <th>nlp</th>\n",
       "      <th>1 star</th>\n",
       "      <th>2 stars</th>\n",
       "      <th>3 stars</th>\n",
       "      <th>4 stars</th>\n",
       "      <th>5 stars</th>\n",
       "      <th>Rating count</th>\n",
       "      <th>Review count</th>\n",
       "    </tr>\n",
       "  </thead>\n",
       "  <tbody>\n",
       "    <tr>\n",
       "      <th>384</th>\n",
       "      <td>Unstitched Cotton Blend Salwar and Dupatta Mat...</td>\n",
       "      <td>865</td>\n",
       "      <td>-1.0</td>\n",
       "      <td>0</td>\n",
       "      <td>Pink</td>\n",
       "      <td>Reya</td>\n",
       "      <td>Printed</td>\n",
       "      <td>Cotton Blend</td>\n",
       "      <td>Men</td>\n",
       "      <td>Printed</td>\n",
       "      <td>https://www.flipkart.com/reya-cotton-blend-pri...</td>\n",
       "      <td>Bsp8VgfkjQ</td>\n",
       "      <td>{'Type': 'Salwar and Dupatta Material', 'Sales...</td>\n",
       "      <td>0</td>\n",
       "      <td>0</td>\n",
       "      <td>0</td>\n",
       "      <td>0</td>\n",
       "      <td>0</td>\n",
       "      <td>0</td>\n",
       "      <td>0</td>\n",
       "    </tr>\n",
       "  </tbody>\n",
       "</table>\n",
       "</div>"
      ],
      "text/plain": [
       "                                                 Title  Price  Rating Reviews  \\\n",
       "384  Unstitched Cotton Blend Salwar and Dupatta Mat...    865    -1.0       0   \n",
       "\n",
       "    Color Seller     Type        Fabric Ideal for  Pattern  \\\n",
       "384  Pink   Reya  Printed  Cotton Blend       Men  Printed   \n",
       "\n",
       "                                                   Url        code  \\\n",
       "384  https://www.flipkart.com/reya-cotton-blend-pri...  Bsp8VgfkjQ   \n",
       "\n",
       "                                                   nlp  1 star  2 stars  \\\n",
       "384  {'Type': 'Salwar and Dupatta Material', 'Sales...       0        0   \n",
       "\n",
       "     3 stars  4 stars  5 stars Rating count Review count  \n",
       "384        0        0        0            0            0  "
      ]
     },
     "execution_count": 105,
     "metadata": {},
     "output_type": "execute_result"
    }
   ],
   "source": [
    "df[df.Type=='Printed']"
   ]
  },
  {
   "cell_type": "code",
   "execution_count": null,
   "metadata": {},
   "outputs": [],
   "source": []
  }
 ],
 "metadata": {
  "kernelspec": {
   "display_name": "ML_Sep2023_rohan",
   "language": "python",
   "name": "python3"
  },
  "language_info": {
   "codemirror_mode": {
    "name": "ipython",
    "version": 3
   },
   "file_extension": ".py",
   "mimetype": "text/x-python",
   "name": "python",
   "nbconvert_exporter": "python",
   "pygments_lexer": "ipython3",
   "version": "3.11.5"
  }
 },
 "nbformat": 4,
 "nbformat_minor": 2
}
