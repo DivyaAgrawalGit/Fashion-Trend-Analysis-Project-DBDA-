{
 "cells": [
  {
   "cell_type": "code",
   "execution_count": 54,
   "metadata": {},
   "outputs": [],
   "source": [
    "import pandas as pd\n",
    "import random"
   ]
  },
  {
   "cell_type": "code",
   "execution_count": 55,
   "metadata": {},
   "outputs": [
    {
     "name": "stdout",
     "output_type": "stream",
     "text": [
      "<class 'pandas.core.frame.DataFrame'>\n",
      "Index: 988 entries, 0 to 987\n",
      "Data columns (total 68 columns):\n",
      " #   Column                               Non-Null Count  Dtype  \n",
      "---  ------                               --------------  -----  \n",
      " 0   Unnamed: 0                           988 non-null    int64  \n",
      " 1   Title                                988 non-null    object \n",
      " 2   Price                                988 non-null    object \n",
      " 3   Rating                               676 non-null    float64\n",
      " 4   Reviews                              700 non-null    object \n",
      " 5   Url                                  988 non-null    object \n",
      " 6   Seller                               952 non-null    object \n",
      " 7   Color                                843 non-null    object \n",
      " 8   Length                               511 non-null    object \n",
      " 9   Fabric                               977 non-null    object \n",
      " 10  Pattern                              853 non-null    object \n",
      " 11  Ideal For                            709 non-null    object \n",
      " 12  Type                                 778 non-null    object \n",
      " 13  Style Code                           930 non-null    object \n",
      " 14  Suitable For                         762 non-null    object \n",
      " 15  Sleeve Length                        130 non-null    object \n",
      " 16  Neck                                 508 non-null    object \n",
      " 17  Fabric Care                          854 non-null    object \n",
      " 18  Sleeve                               661 non-null    object \n",
      " 19  Pack Of                              44 non-null     float64\n",
      " 20  Pocket Type                          36 non-null     object \n",
      " 21  Reversible                           241 non-null    object \n",
      " 22  Closure                              139 non-null    object \n",
      " 23  Faded                                44 non-null     object \n",
      " 24  Rise                                 50 non-null     object \n",
      " 25  Distressed                           44 non-null     object \n",
      " 26  Net Quantity                         517 non-null    object \n",
      " 27  Stretchable                          19 non-null     object \n",
      " 28  Fly                                  16 non-null     object \n",
      " 29  Sleeve Style                         77 non-null     object \n",
      " 30  Fit                                  308 non-null    object \n",
      " 31  Belt Included                        27 non-null     object \n",
      " 32  Pack of                              367 non-null    float64\n",
      " 33  Occasion                             91 non-null     object \n",
      " 34  Belt Loops                           4 non-null      object \n",
      " 35  Neck Type                            94 non-null     object \n",
      " 36  Size                                 141 non-null    object \n",
      " 37  Collar                               90 non-null     object \n",
      " 38  Hem                                  77 non-null     object \n",
      " 39  Style code                           30 non-null     object \n",
      " 40  Ideal for                            30 non-null     object \n",
      " 41  Character                            0 non-null      float64\n",
      " 42  Suitable for                         4 non-null      object \n",
      " 43  Hooded                               6 non-null      object \n",
      " 44  Fabric care                          30 non-null     object \n",
      " 45  Brand                                47 non-null     object \n",
      " 46  Brand Color                          62 non-null     object \n",
      " 47  Number of Leggings                   16 non-null     float64\n",
      " 48  Length Type                          41 non-null     object \n",
      " 49  Number of Contents in Sales Package  67 non-null     object \n",
      " 50  Other Details                        27 non-null     object \n",
      " 51  Series                               17 non-null     object \n",
      " 52  Unnamed: 52                          17 non-null     object \n",
      " 53  Sales Package                        62 non-null     object \n",
      " 54  Brand color                          26 non-null     object \n",
      " 55  Label size                           26 non-null     object \n",
      " 56  Primary product type                 26 non-null     object \n",
      " 57  Secondary product type               26 non-null     object \n",
      " 58  Primary Color                        31 non-null     object \n",
      " 59  Suitabl for                          26 non-null     object \n",
      " 60  Fabric details                       26 non-null     object \n",
      " 61  Secondary Color                      11 non-null     object \n",
      " 62  Pockets                              23 non-null     object \n",
      " 63  Sleeve Type                          8 non-null      object \n",
      " 64  Number of T-Shirts                   5 non-null      float64\n",
      " 65  Model Name                           1 non-null      object \n",
      " 66  Brand Fit                            13 non-null     object \n",
      " 67  total                                988 non-null    object \n",
      "dtypes: float64(6), int64(1), object(61)\n",
      "memory usage: 532.6+ KB\n"
     ]
    }
   ],
   "source": [
    "df1=pd.read_json('pluss.json')\n",
    "df1.info()"
   ]
  },
  {
   "cell_type": "code",
   "execution_count": 56,
   "metadata": {},
   "outputs": [
    {
     "data": {
      "text/plain": [
       "Seller\n",
       "PLUSS            818\n",
       "Allen Solly       58\n",
       "Mars Infiniti     26\n",
       "METRONAUT         12\n",
       "ADIDAS             9\n",
       "BEWAKOOF           9\n",
       "krijo              8\n",
       "Pepe Jeans         5\n",
       "KILLER             5\n",
       "LEVI'S             2\n",
       "Name: count, dtype: int64"
      ]
     },
     "execution_count": 56,
     "metadata": {},
     "output_type": "execute_result"
    }
   ],
   "source": [
    "df1.Seller.value_counts()"
   ]
  },
  {
   "cell_type": "code",
   "execution_count": 57,
   "metadata": {},
   "outputs": [],
   "source": [
    "df=df1[['Title','Price','Rating','Reviews','Color','Seller','Type','Fabric','Ideal for','Pattern','total','Url']]\n",
    "df=df[df.Title.notnull()]\n",
    "df=df[df.Seller=='PLUSS']"
   ]
  },
  {
   "cell_type": "code",
   "execution_count": 58,
   "metadata": {},
   "outputs": [
    {
     "data": {
      "text/plain": [
       "Title          0\n",
       "Price          0\n",
       "Rating       294\n",
       "Reviews      281\n",
       "Color         64\n",
       "Seller         0\n",
       "Type         108\n",
       "Fabric         0\n",
       "Ideal for    814\n",
       "Pattern      124\n",
       "total          0\n",
       "Url            0\n",
       "dtype: int64"
      ]
     },
     "execution_count": 58,
     "metadata": {},
     "output_type": "execute_result"
    }
   ],
   "source": [
    "df.isnull().sum()"
   ]
  },
  {
   "cell_type": "code",
   "execution_count": 59,
   "metadata": {},
   "outputs": [],
   "source": [
    "patterns=list(set(df['Pattern']))\n",
    "if None in patterns:\n",
    "    patterns.remove(None)\n",
    "#unique_patterns = set(patterns)  # Create set outside the function for efficiency\n",
    "def pattern_fill(row):\n",
    "    if row['Pattern'] is None:\n",
    "        for pattern in patterns:\n",
    "            if pattern in row['Title']:\n",
    "                return type\n",
    "        # Handle cases where no match is found (return default, raise error, etc.)\n",
    "    else:\n",
    "        return row['Pattern']\n",
    "\n",
    "\n",
    "colours=list(set(df['Color']))\n",
    "if None in colours:\n",
    "    colours.remove(None)\n",
    "\n",
    "def colour_fill(row):\n",
    "    if row['Color'] is None:\n",
    "        for color in colours:\n",
    "            if color.lower( ) in row['Title'].lower():   # Make case-insensitive\n",
    "                return color\n",
    "    else:\n",
    "        return  row['Color']\n",
    "\n",
    "persons=['Men','Women','Kid','Girl','Boy']\n",
    "def idealfor(row):\n",
    "    for x in persons:\n",
    "        if x in row['Title']:   # Make case-insensitive\n",
    "            return x \n",
    "        \n",
    "\n",
    "\n",
    "def rat_cnt(row):\n",
    "    if row==0:\n",
    "        return 0\n",
    "    x=row.replace(',','')\n",
    "    x=x.split(\" \")\n",
    "    return x[0]\n",
    "\n",
    "\n",
    "def rev_cnt(row):\n",
    "    if row==0:\n",
    "        return 0\n",
    "    x=row.replace(',','')\n",
    "    x=x.split(\" \")\n",
    "    return x[0]"
   ]
  },
  {
   "cell_type": "code",
   "execution_count": 61,
   "metadata": {},
   "outputs": [],
   "source": [
    "df['Pattern'] = df.apply(pattern_fill, axis=1)\n",
    "df['Color'] = df.apply(colour_fill, axis=1)\n",
    "df['Ideal for']=df.apply(idealfor,axis=1)\n",
    "#df['Ideal for'].fillna('Women',inplace=True)\n",
    "df[\"Pattern\"].fillna(random.choice(patterns), inplace=True)\n",
    "df[\"Color\"].fillna(random.choice(colours), inplace=True)\n",
    "fabrics=list(set(df['Fabric']))\n",
    "#if None in fabrics:\n",
    "    #fabrics.remove('None')\n",
    "df[\"Fabric\"].fillna(random.choice(fabrics), inplace=True)\n",
    "#df.Title=df.Title.str.replace(r'\\(....??\\)','')\n",
    "\n",
    "df.Rating=df.Rating.fillna(-1)\n",
    "df['Price']=df['Price'].apply(lambda x: x[1:]).str.replace(',','').astype(int)\n",
    "\n",
    "df[\"code\"]=df.total.apply(lambda x : x[1])\n",
    "df[\"nlp\"]=df.total.apply(lambda x : x[2])\n",
    "df[\"Stars\"]=df.total.apply(lambda x : x[3])\n",
    "\n",
    "df[\"1 star\"]=df.Stars.apply(lambda x : str(x[0]).replace(',','')).astype(int)\n",
    "df[\"2 stars\"]=df.Stars.apply(lambda x : str(x[1]).replace(',','')).astype(int)\n",
    "df[\"3 stars\"]=df.Stars.apply(lambda x: str(x[2]).replace(',','')).astype(int)\n",
    "df[\"4 stars\"]=df.Stars.apply(lambda x: str(x[3]).replace(',','')).astype(int)\n",
    "df[\"5 stars\"]=df.Stars.apply(lambda x: str(x[4]).replace(',','')).astype(int)\n",
    "\n",
    "\n",
    "df.Reviews.fillna(0, inplace=True)\n",
    "df['Rating count']=df['Reviews'].apply(rat_cnt)\n",
    "df['Review count']=df['Reviews'].apply(rev_cnt)\n",
    "#df[df['Reviews']!=0]['Rating count']=df[df['Reviews']!=0]['Reviews'].apply(lambda x: x.replace(',','').split(' ')[0])\n",
    "#df[df['Reviews']!=0]['Review count']=df[df['Reviews']!=0]['Reviews'].apply(lambda x: x.replace(',','').split(' ')[3])\n",
    "\n",
    "df.drop(\"Stars\",axis=1,inplace=True)\n",
    "df.drop(\"total\",axis=1,inplace=True)"
   ]
  },
  {
   "cell_type": "code",
   "execution_count": 62,
   "metadata": {},
   "outputs": [
    {
     "data": {
      "text/plain": [
       "Title             0\n",
       "Price             0\n",
       "Rating            0\n",
       "Reviews           0\n",
       "Color             0\n",
       "Seller            0\n",
       "Type            108\n",
       "Fabric            0\n",
       "Ideal for         0\n",
       "Pattern           0\n",
       "Url               0\n",
       "code              0\n",
       "nlp               0\n",
       "1 star            0\n",
       "2 stars           0\n",
       "3 stars           0\n",
       "4 stars           0\n",
       "5 stars           0\n",
       "Rating count      0\n",
       "Review count      0\n",
       "dtype: int64"
      ]
     },
     "execution_count": 62,
     "metadata": {},
     "output_type": "execute_result"
    }
   ],
   "source": [
    "df.isnull().sum()"
   ]
  },
  {
   "cell_type": "markdown",
   "metadata": {},
   "source": [
    "types=list(set(df['Type']))\n",
    "types.remove(None)\n",
    "#print(types)\n",
    "def type_fill(row):\n",
    "    y=row.Title\n",
    "    y=y.split(' ')\n",
    "    if y[-1]=='Women':\n",
    "        return None\n",
    "    return y[-1]\n",
    "\n",
    "\n",
    "def type1_fill(row):\n",
    "    if row['Type'] is None:\n",
    "        for type in types:\n",
    "            print(type)\n",
    "            if type in row['Title']:   # Make case-insensitive\n",
    "                return type\n",
    "    else:\n",
    "        return  row['Type']\n",
    "\n",
    "df['Type']=df.apply(type1_fill,axis=1)\n",
    "df.Type.fillna('Coat',inplace=True)"
   ]
  },
  {
   "cell_type": "code",
   "execution_count": 63,
   "metadata": {},
   "outputs": [],
   "source": [
    "types=list(set(df['Type']))\n",
    "types.remove(None)\n",
    "#print(types)\n",
    "def type_fill(row):\n",
    "    z=row.Title\n",
    "    y=z.split(' ')\n",
    "    if 'Kurta' in z:\n",
    "        return 'Kurta'\n",
    "    elif 'Blazer' in z:\n",
    "        return 'Blazer'\n",
    "    elif 'Top' in z:\n",
    "        return 'Top'\n",
    "    elif 'Jacket' in z:\n",
    "        return 'Jacket'\n",
    "    elif 'Lehenga' in z:\n",
    "        return 'Lehenga'\n",
    "    elif 'Night' in z:\n",
    "        return 'Night Suit'\n",
    "    elif 'Men' in y[-1]:\n",
    "        return 'Shoes'\n",
    "    elif 'Women' in y[-1]:\n",
    "        return 'Boots'\n",
    "    elif 'Shoes' in z:\n",
    "        return 'Shoes'\n",
    "    return y[-1]\n",
    "\n",
    "\n",
    "def type1_fill(row):\n",
    "    if row['Type'] is None:\n",
    "        for type in types:\n",
    "            #print(type)\n",
    "            if type in row['Title']:   # Make case-insensitive\n",
    "                return type\n",
    "    else:\n",
    "        return  row['Type']\n",
    "df.Type=df.apply(type_fill,axis=1)"
   ]
  },
  {
   "cell_type": "code",
   "execution_count": 64,
   "metadata": {},
   "outputs": [],
   "source": [
    "df.to_json('data/pluss.json')"
   ]
  },
  {
   "cell_type": "code",
   "execution_count": 65,
   "metadata": {},
   "outputs": [
    {
     "data": {
      "text/plain": [
       "Type\n",
       "Dress         499\n",
       "Top            77\n",
       "T-Shirt        64\n",
       "Shirt          58\n",
       "Jeans          41\n",
       "Kurta          41\n",
       "Trousers       17\n",
       "Shorts          8\n",
       "Pants           7\n",
       "Jacket          4\n",
       "Sweatshirt      2\n",
       "Name: count, dtype: int64"
      ]
     },
     "execution_count": 65,
     "metadata": {},
     "output_type": "execute_result"
    }
   ],
   "source": [
    "df.Type.value_counts()\n",
    "#df[df.Type=='Dress']"
   ]
  },
  {
   "cell_type": "code",
   "execution_count": 66,
   "metadata": {},
   "outputs": [
    {
     "data": {
      "text/plain": [
       "Title           0\n",
       "Price           0\n",
       "Rating          0\n",
       "Reviews         0\n",
       "Color           0\n",
       "Seller          0\n",
       "Type            0\n",
       "Fabric          0\n",
       "Ideal for       0\n",
       "Pattern         0\n",
       "Url             0\n",
       "code            0\n",
       "nlp             0\n",
       "1 star          0\n",
       "2 stars         0\n",
       "3 stars         0\n",
       "4 stars         0\n",
       "5 stars         0\n",
       "Rating count    0\n",
       "Review count    0\n",
       "dtype: int64"
      ]
     },
     "execution_count": 66,
     "metadata": {},
     "output_type": "execute_result"
    }
   ],
   "source": [
    "df.isnull().sum()"
   ]
  },
  {
   "cell_type": "code",
   "execution_count": null,
   "metadata": {},
   "outputs": [],
   "source": []
  }
 ],
 "metadata": {
  "kernelspec": {
   "display_name": "ML_Sep2023_rohan",
   "language": "python",
   "name": "python3"
  },
  "language_info": {
   "codemirror_mode": {
    "name": "ipython",
    "version": 3
   },
   "file_extension": ".py",
   "mimetype": "text/x-python",
   "name": "python",
   "nbconvert_exporter": "python",
   "pygments_lexer": "ipython3",
   "version": "3.11.5"
  }
 },
 "nbformat": 4,
 "nbformat_minor": 2
}
