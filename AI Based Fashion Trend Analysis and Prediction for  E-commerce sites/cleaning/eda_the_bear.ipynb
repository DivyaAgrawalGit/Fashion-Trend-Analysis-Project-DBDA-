{
 "cells": [
  {
   "cell_type": "code",
   "execution_count": 20,
   "metadata": {},
   "outputs": [],
   "source": [
    "import pandas as pd\n",
    "import random"
   ]
  },
  {
   "cell_type": "code",
   "execution_count": 21,
   "metadata": {},
   "outputs": [
    {
     "name": "stdout",
     "output_type": "stream",
     "text": [
      "<class 'pandas.core.frame.DataFrame'>\n",
      "Index: 952 entries, 0 to 951\n",
      "Data columns (total 74 columns):\n",
      " #   Column                               Non-Null Count  Dtype  \n",
      "---  ------                               --------------  -----  \n",
      " 0   Unnamed: 0                           952 non-null    int64  \n",
      " 1   Title                                951 non-null    object \n",
      " 2   Price                                951 non-null    object \n",
      " 3   Rating                               717 non-null    float64\n",
      " 4   Reviews                              722 non-null    object \n",
      " 5   Url                                  952 non-null    object \n",
      " 6   Seller                               949 non-null    object \n",
      " 7   Pack of                              756 non-null    object \n",
      " 8   Style Code                           907 non-null    object \n",
      " 9   Fit                                  755 non-null    object \n",
      " 10  Fabric                               949 non-null    object \n",
      " 11  Sleeve                               786 non-null    object \n",
      " 12  Pattern                              940 non-null    object \n",
      " 13  Reversible                           738 non-null    object \n",
      " 14  Color                                768 non-null    object \n",
      " 15  Fabric Care                          890 non-null    object \n",
      " 16  Suitable For                         805 non-null    object \n",
      " 17  Hem                                  522 non-null    object \n",
      " 18  Net Quantity                         931 non-null    object \n",
      " 19  Secondary Color                      225 non-null    object \n",
      " 20  Closure                              298 non-null    object \n",
      " 21  Collar                               532 non-null    object \n",
      " 22  Type                                 233 non-null    object \n",
      " 23  Neck Type                            172 non-null    object \n",
      " 24  Ideal For                            197 non-null    object \n",
      " 25  Size                                 181 non-null    object \n",
      " 26  Brand Fit                            2 non-null      object \n",
      " 27  Sleeve Type                          2 non-null      object \n",
      " 28  Neck                                 76 non-null     object \n",
      " 29  Occasion                             92 non-null     object \n",
      " 30  Hooded                               62 non-null     object \n",
      " 31  Alteration Required                  19 non-null     object \n",
      " 32  Belt Loops                           17 non-null     object \n",
      " 33  Rise                                 33 non-null     object \n",
      " 34  Inseam Length                        20 non-null     object \n",
      " 35  Pleats                               20 non-null     object \n",
      " 36  Fly                                  33 non-null     object \n",
      " 37  Fabric Details                       28 non-null     object \n",
      " 38  Sales Package                        100 non-null    object \n",
      " 39  Pockets                              74 non-null     object \n",
      " 40  Other Details                        66 non-null     object \n",
      " 41  Brand                                9 non-null      object \n",
      " 42  Style code                           9 non-null      object \n",
      " 43  Brand color                          1 non-null      object \n",
      " 44  Label size                           1 non-null      object \n",
      " 45  Ideal for                            8 non-null      object \n",
      " 46  Primary product type                 1 non-null      object \n",
      " 47  Secondary product type               1 non-null      object \n",
      " 48  Primary Color                        9 non-null      object \n",
      " 49  Suitabl for                          1 non-null      object \n",
      " 50  Fabric care                          9 non-null      object \n",
      " 51  Fabric details                       1 non-null      object \n",
      " 52  Pack Of                              13 non-null     float64\n",
      " 53  Faded                                13 non-null     object \n",
      " 54  Distressed                           13 non-null     object \n",
      " 55  Stretchable                          5 non-null      object \n",
      " 56  Number of Track Pants                8 non-null      float64\n",
      " 57  Brand Color                          9 non-null      object \n",
      " 58  Group ID                             8 non-null      object \n",
      " 59  Waist in inch                        4 non-null      object \n",
      " 60  Length Type                          7 non-null      object \n",
      " 61  Style                                1 non-null      object \n",
      " 62  Number of Contents in Sales Package  4 non-null      object \n",
      " 63  Unnamed: 63                          2 non-null      object \n",
      " 64  Character                            1 non-null      object \n",
      " 65  Suitable for                         7 non-null      object \n",
      " 66  Model Name                           1 non-null      object \n",
      " 67  Sales package                        1 non-null      object \n",
      " 68  Pocket Type                          4 non-null      object \n",
      " 69  Series                               1 non-null      object \n",
      " 70  Knit Type                            6 non-null      object \n",
      " 71  Sleeve Style                         1 non-null      object \n",
      " 72  Sleeve Length                        1 non-null      object \n",
      " 73  total                                952 non-null    object \n",
      "dtypes: float64(3), int64(1), object(70)\n",
      "memory usage: 557.8+ KB\n"
     ]
    }
   ],
   "source": [
    "df1=pd.read_json('the_bear.json')\n",
    "df1.info()"
   ]
  },
  {
   "cell_type": "code",
   "execution_count": 22,
   "metadata": {},
   "outputs": [
    {
     "data": {
      "text/plain": [
       "Seller\n",
       "THE BEAR HOUSE     678\n",
       "FTX                 45\n",
       "TRIPR               38\n",
       "LAHEJA              27\n",
       "Duooble             19\n",
       "FashionAndYOUTH     16\n",
       "YFB                 15\n",
       "Allen Solly         14\n",
       "LEVI'S              10\n",
       "4 SPEED              9\n",
       "WOXEN                8\n",
       "Anand                8\n",
       "SAN TEE              8\n",
       "FABFARM              7\n",
       "J TURRITOPSIS        6\n",
       "XYXX                 6\n",
       "Reya                 6\n",
       "sti                  6\n",
       "TeeWink              5\n",
       "Veirdo               5\n",
       "KYK                  4\n",
       "Dennis Lingo         3\n",
       "High Star            2\n",
       "Hellcat              1\n",
       "ADIDAS               1\n",
       "TYFFYN               1\n",
       "Tokyo Talkies        1\n",
       "Name: count, dtype: int64"
      ]
     },
     "execution_count": 22,
     "metadata": {},
     "output_type": "execute_result"
    }
   ],
   "source": [
    "df1.Seller.value_counts()"
   ]
  },
  {
   "cell_type": "code",
   "execution_count": 23,
   "metadata": {},
   "outputs": [],
   "source": [
    "df=df1[['Title','Price','Rating','Reviews','Color','Seller','Type','Fabric','Ideal for','Pattern','total','Url']]\n",
    "df=df[df.Title.notnull()]\n",
    "df=df[df.Seller=='THE BEAR HOUSE']"
   ]
  },
  {
   "cell_type": "code",
   "execution_count": 31,
   "metadata": {},
   "outputs": [
    {
     "data": {
      "text/plain": [
       "Title           0\n",
       "Price           0\n",
       "Rating          0\n",
       "Reviews         0\n",
       "Color           0\n",
       "Seller          0\n",
       "Type            0\n",
       "Fabric          0\n",
       "Ideal for       0\n",
       "Pattern         0\n",
       "Url             0\n",
       "code            0\n",
       "nlp             0\n",
       "1 star          0\n",
       "2 stars         0\n",
       "3 stars         0\n",
       "4 stars         0\n",
       "5 stars         0\n",
       "Rating count    0\n",
       "Review count    0\n",
       "dtype: int64"
      ]
     },
     "execution_count": 31,
     "metadata": {},
     "output_type": "execute_result"
    }
   ],
   "source": [
    "df.isnull().sum()"
   ]
  },
  {
   "cell_type": "code",
   "execution_count": 25,
   "metadata": {},
   "outputs": [],
   "source": [
    "patterns=list(set(df['Pattern']))\n",
    "if None in patterns:\n",
    "    patterns.remove(None)\n",
    "#unique_patterns = set(patterns)  # Create set outside the function for efficiency\n",
    "def pattern_fill(row):\n",
    "    if row['Pattern'] is None:\n",
    "        for pattern in patterns:\n",
    "            if pattern in row['Title']:\n",
    "                return type\n",
    "        # Handle cases where no match is found (return default, raise error, etc.)\n",
    "    else:\n",
    "        return row['Pattern']\n",
    "\n",
    "\n",
    "colours=list(set(df['Color']))\n",
    "if None in colours:\n",
    "    colours.remove(None)\n",
    "\n",
    "def colour_fill(row):\n",
    "    if row['Color'] is None:\n",
    "        for color in colours:\n",
    "            if color.lower( ) in row['Title'].lower():   # Make case-insensitive\n",
    "                return color\n",
    "    else:\n",
    "        return  row['Color']\n",
    "\n",
    "persons=['Men','Women','Kid','Girl','Boy']\n",
    "def idealfor(row):\n",
    "    for x in persons:\n",
    "        if x.lower( ) in row['Title'].lower():   # Make case-insensitive\n",
    "            return x \n",
    "        \n",
    "\n",
    "\n",
    "def rat_cnt(row):\n",
    "    if row==0:\n",
    "        return 0\n",
    "    x=row.replace(',','')\n",
    "    x=x.split(\" \")\n",
    "    return x[0]\n",
    "\n",
    "\n",
    "def rev_cnt(row):\n",
    "    if row==0:\n",
    "        return 0\n",
    "    x=row.replace(',','')\n",
    "    x=x.split(\" \")\n",
    "    return x[0]"
   ]
  },
  {
   "cell_type": "code",
   "execution_count": 26,
   "metadata": {},
   "outputs": [],
   "source": [
    "df['Pattern'] = df.apply(pattern_fill, axis=1)\n",
    "df['Color'] = df.apply(colour_fill, axis=1)\n",
    "df['Ideal for']=df.apply(idealfor,axis=1)\n",
    "df['Ideal for'].fillna('Men',inplace=True)\n",
    "df[\"Pattern\"].fillna(random.choice(patterns), inplace=True)\n",
    "df[\"Color\"].fillna(random.choice(colours), inplace=True)\n",
    "fabrics=list(set(df['Fabric']))\n",
    "#if None in fabrics:\n",
    "    #fabrics.remove('None')\n",
    "df[\"Fabric\"].fillna(random.choice(fabrics), inplace=True)\n",
    "#df.Title=df.Title.str.replace(r'\\(....??\\)','')\n",
    "\n",
    "df.Rating=df.Rating.fillna(-1)\n",
    "df['Price']=df['Price'].apply(lambda x: x[1:]).str.replace(',','').astype(int)\n",
    "\n",
    "df[\"code\"]=df.total.apply(lambda x : x[1])\n",
    "df[\"nlp\"]=df.total.apply(lambda x : x[2])\n",
    "df[\"Stars\"]=df.total.apply(lambda x : x[3])\n",
    "\n",
    "df[\"1 star\"]=df.Stars.apply(lambda x : str(x[0]).replace(',','')).astype(int)\n",
    "df[\"2 stars\"]=df.Stars.apply(lambda x : str(x[1]).replace(',','')).astype(int)\n",
    "df[\"3 stars\"]=df.Stars.apply(lambda x: str(x[2]).replace(',','')).astype(int)\n",
    "df[\"4 stars\"]=df.Stars.apply(lambda x: str(x[3]).replace(',','')).astype(int)\n",
    "df[\"5 stars\"]=df.Stars.apply(lambda x: str(x[4]).replace(',','')).astype(int)\n",
    "\n",
    "\n",
    "df.Reviews.fillna(0, inplace=True)\n",
    "df['Rating count']=df['Reviews'].apply(rat_cnt)\n",
    "df['Review count']=df['Reviews'].apply(rev_cnt)\n",
    "#df[df['Reviews']!=0]['Rating count']=df[df['Reviews']!=0]['Reviews'].apply(lambda x: x.replace(',','').split(' ')[0])\n",
    "#df[df['Reviews']!=0]['Review count']=df[df['Reviews']!=0]['Reviews'].apply(lambda x: x.replace(',','').split(' ')[3])\n",
    "\n",
    "df.drop(\"Stars\",axis=1,inplace=True)\n",
    "df.drop(\"total\",axis=1,inplace=True)"
   ]
  },
  {
   "cell_type": "code",
   "execution_count": 27,
   "metadata": {},
   "outputs": [
    {
     "data": {
      "text/plain": [
       "Title             0\n",
       "Price             0\n",
       "Rating            0\n",
       "Reviews           0\n",
       "Color             0\n",
       "Seller            0\n",
       "Type            555\n",
       "Fabric            0\n",
       "Ideal for         0\n",
       "Pattern           0\n",
       "Url               0\n",
       "code              0\n",
       "nlp               0\n",
       "1 star            0\n",
       "2 stars           0\n",
       "3 stars           0\n",
       "4 stars           0\n",
       "5 stars           0\n",
       "Rating count      0\n",
       "Review count      0\n",
       "dtype: int64"
      ]
     },
     "execution_count": 27,
     "metadata": {},
     "output_type": "execute_result"
    }
   ],
   "source": [
    "df.isnull().sum()"
   ]
  },
  {
   "cell_type": "markdown",
   "metadata": {},
   "source": [
    "types=list(set(df['Type']))\n",
    "types.remove(None)\n",
    "#print(types)\n",
    "def type_fill(row):\n",
    "    y=row.Title\n",
    "    y=y.split(' ')\n",
    "    if y[-1]=='Women':\n",
    "        return None\n",
    "    return y[-1]\n",
    "\n",
    "\n",
    "def type1_fill(row):\n",
    "    if row['Type'] is None:\n",
    "        for type in types:\n",
    "            print(type)\n",
    "            if type in row['Title']:   # Make case-insensitive\n",
    "                return type\n",
    "    else:\n",
    "        return  row['Type']\n",
    "\n",
    "df['Type']=df.apply(type1_fill,axis=1)\n",
    "df.Type.fillna('Coat',inplace=True)"
   ]
  },
  {
   "cell_type": "code",
   "execution_count": 28,
   "metadata": {},
   "outputs": [],
   "source": [
    "types=list(set(df['Type']))\n",
    "types.remove(None)\n",
    "#print(types)\n",
    "def type_fill(row):\n",
    "    z=row.Title\n",
    "    y=z.split(' ')\n",
    "    if 'Kurta' in z:\n",
    "        return 'Kurta'\n",
    "    elif 'Blazer' in z:\n",
    "        return 'Blazer'\n",
    "    elif 'Top' in z:\n",
    "        return 'Top'\n",
    "    elif 'Jacket' in z:\n",
    "        return 'Jacket'\n",
    "    elif 'Lehenga' in z:\n",
    "        return 'Lehenga'\n",
    "    elif 'Night' in z:\n",
    "        return 'Night Suit'\n",
    "    elif 'Men' in y[-1]:\n",
    "        return 'Shoes'\n",
    "    elif 'Women' in y[-1]:\n",
    "        return 'Boots'\n",
    "    elif 'Shoes' in z:\n",
    "        return 'Shoes'\n",
    "    return y[-1]\n",
    "\n",
    "\n",
    "def type1_fill(row):\n",
    "    if row['Type'] is None:\n",
    "        for type in types:\n",
    "            #print(type)\n",
    "            if type in row['Title']:   # Make case-insensitive\n",
    "                return type\n",
    "    else:\n",
    "        return  row['Type']\n",
    "df.Type=df.apply(type_fill,axis=1)"
   ]
  },
  {
   "cell_type": "code",
   "execution_count": 29,
   "metadata": {},
   "outputs": [],
   "source": [
    "df.to_json('data/the_bear.json')"
   ]
  },
  {
   "cell_type": "code",
   "execution_count": 30,
   "metadata": {},
   "outputs": [
    {
     "data": {
      "text/plain": [
       "Type\n",
       "Shirt         510\n",
       "T-Shirt        97\n",
       "Sweatshirt     40\n",
       "Trousers       20\n",
       "Shorts          5\n",
       "Pants           4\n",
       "Kurta           1\n",
       "Cap             1\n",
       "Name: count, dtype: int64"
      ]
     },
     "execution_count": 30,
     "metadata": {},
     "output_type": "execute_result"
    }
   ],
   "source": [
    "df.Type.value_counts()"
   ]
  },
  {
   "cell_type": "code",
   "execution_count": null,
   "metadata": {},
   "outputs": [],
   "source": []
  }
 ],
 "metadata": {
  "kernelspec": {
   "display_name": "ML_Sep2023_rohan",
   "language": "python",
   "name": "python3"
  },
  "language_info": {
   "codemirror_mode": {
    "name": "ipython",
    "version": 3
   },
   "file_extension": ".py",
   "mimetype": "text/x-python",
   "name": "python",
   "nbconvert_exporter": "python",
   "pygments_lexer": "ipython3",
   "version": "3.11.5"
  }
 },
 "nbformat": 4,
 "nbformat_minor": 2
}
