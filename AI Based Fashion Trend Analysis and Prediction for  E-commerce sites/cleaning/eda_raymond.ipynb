{
 "cells": [
  {
   "cell_type": "code",
   "execution_count": 80,
   "metadata": {},
   "outputs": [],
   "source": [
    "import pandas as pd\n",
    "import random"
   ]
  },
  {
   "cell_type": "code",
   "execution_count": 81,
   "metadata": {},
   "outputs": [
    {
     "name": "stdout",
     "output_type": "stream",
     "text": [
      "<class 'pandas.core.frame.DataFrame'>\n",
      "Index: 984 entries, 0 to 983\n",
      "Data columns (total 67 columns):\n",
      " #   Column                   Non-Null Count  Dtype  \n",
      "---  ------                   --------------  -----  \n",
      " 0   Unnamed: 0               984 non-null    int64  \n",
      " 1   Title                    984 non-null    object \n",
      " 2   Price                    981 non-null    object \n",
      " 3   Rating                   552 non-null    float64\n",
      " 4   Reviews                  789 non-null    object \n",
      " 5   Url                      984 non-null    object \n",
      " 6   Seller                   653 non-null    object \n",
      " 7   Type                     547 non-null    object \n",
      " 8   Sales Package            443 non-null    object \n",
      " 9   Ideal For                474 non-null    object \n",
      " 10  Occasion                 541 non-null    object \n",
      " 11  Fabric Care              550 non-null    object \n",
      " 12  Other Details            278 non-null    object \n",
      " 13  Style Code               554 non-null    object \n",
      " 14  Bottom Length            362 non-null    object \n",
      " 15  Top Length               364 non-null    object \n",
      " 16  Color                    651 non-null    object \n",
      " 17  Fabric                   649 non-null    object \n",
      " 18  Pattern                  643 non-null    object \n",
      " 19  Stitching Type           439 non-null    object \n",
      " 20  Pattern/Print Type       278 non-null    object \n",
      " 21  Pack of                  167 non-null    float64\n",
      " 22  Fit                      171 non-null    object \n",
      " 23  Sleeve                   88 non-null     object \n",
      " 24  Reversible               96 non-null     object \n",
      " 25  Suitable For             183 non-null    object \n",
      " 26  Net Quantity             192 non-null    float64\n",
      " 27  Suit Width               3 non-null      object \n",
      " 28  Hem                      27 non-null     object \n",
      " 29  Alteration Required      8 non-null      object \n",
      " 30  Belt Loops               29 non-null     object \n",
      " 31  Rise                     42 non-null     object \n",
      " 32  Closure                  46 non-null     object \n",
      " 33  Pleats                   4 non-null      object \n",
      " 34  Fly                      21 non-null     object \n",
      " 35  Model Name               4 non-null      object \n",
      " 36  Number of Card Slots     3 non-null      float64\n",
      " 37  Material                 4 non-null      object \n",
      " 38  Width                    3 non-null      object \n",
      " 39  Height                   3 non-null      object \n",
      " 40  Collar                   30 non-null     object \n",
      " 41  Pockets                  8 non-null      object \n",
      " 42  Pack Of                  16 non-null     float64\n",
      " 43  Pocket Type              3 non-null      object \n",
      " 44  Faded                    16 non-null     object \n",
      " 45  Distressed               16 non-null     object \n",
      " 46  Style code               12 non-null     object \n",
      " 47  Fabric care              7 non-null      object \n",
      " 48  Sales package            8 non-null      object \n",
      " 49  Unnamed: 49              10 non-null     object \n",
      " 50  Trouser Closure          4 non-null      object \n",
      " 51  Pck of                   5 non-null      float64\n",
      " 52  Size                     3 non-null      object \n",
      " 53  Patterned Belt           1 non-null      object \n",
      " 54  Body Features            1 non-null      object \n",
      " 55  Other Features           1 non-null      object \n",
      " 56  Belt Width               1 non-null      object \n",
      " 57  Weight                   1 non-null      object \n",
      " 58  Warranty Summary         1 non-null      object \n",
      " 59  Warranty Service Type    1 non-null      object \n",
      " 60  Covered in Warranty      1 non-null      object \n",
      " 61  Not Covered in Warranty  1 non-null      object \n",
      " 62  Domestic Warranty        1 non-null      object \n",
      " 63  International Warranty   1 non-null      object \n",
      " 64  Neck                     2 non-null      object \n",
      " 65  Neck Type                2 non-null      object \n",
      " 66  total                    984 non-null    object \n",
      "dtypes: float64(6), int64(1), object(60)\n",
      "memory usage: 522.8+ KB\n"
     ]
    }
   ],
   "source": [
    "df1=pd.read_json('raymond.json')\n",
    "df1.info()"
   ]
  },
  {
   "cell_type": "code",
   "execution_count": 82,
   "metadata": {},
   "outputs": [],
   "source": [
    "df1['Ideal for']=df1['Ideal For']\n",
    "df=df1[['Title','Price','Rating','Reviews','Color','Seller','Type','Fabric','Ideal for','Pattern','total','Url']]\n",
    "df=df[df.Title.notnull()]\n",
    "df=df[df.Price.notnull()]\n",
    "df=df[df.Seller=='Raymond']"
   ]
  },
  {
   "cell_type": "code",
   "execution_count": 83,
   "metadata": {},
   "outputs": [
    {
     "data": {
      "text/plain": [
       "Title          0\n",
       "Price          0\n",
       "Rating        97\n",
       "Reviews       96\n",
       "Color          2\n",
       "Seller         0\n",
       "Type         106\n",
       "Fabric         3\n",
       "Ideal for    178\n",
       "Pattern        9\n",
       "total          0\n",
       "Url            0\n",
       "dtype: int64"
      ]
     },
     "execution_count": 83,
     "metadata": {},
     "output_type": "execute_result"
    }
   ],
   "source": [
    "df.isnull().sum()"
   ]
  },
  {
   "cell_type": "code",
   "execution_count": 84,
   "metadata": {},
   "outputs": [],
   "source": [
    "patterns=list(set(df['Pattern']))\n",
    "patterns.remove(None)\n",
    "#unique_patterns = set(patterns)  # Create set outside the function for efficiency\n",
    "def pattern_fill(row):\n",
    "    if row['Pattern'] is None:\n",
    "        for pattern in patterns:\n",
    "            if pattern in row['Title']:\n",
    "                return type\n",
    "        # Handle cases where no match is found (return default, raise error, etc.)\n",
    "    else:\n",
    "        return row['Pattern']\n",
    "\n",
    "\n",
    "colours=list(set(df['Color']))\n",
    "colours.remove(None)\n",
    "\n",
    "def colour_fill(row):\n",
    "    if row['Color'] is None:\n",
    "        for color in colours:\n",
    "            if color.lower( ) in row['Title'].lower():   # Make case-insensitive\n",
    "                return color\n",
    "    else:\n",
    "        return  row['Color']\n",
    "\n",
    "persons=['Men','Women','Kid']\n",
    "def idealfor(row):\n",
    "    for x in persons:\n",
    "        if x.lower( ) in row['Title'].lower():   # Make case-insensitive\n",
    "            return x \n",
    "        \n",
    "\n",
    "\n",
    "def rat_cnt(row):\n",
    "    if row==0:\n",
    "        return 0\n",
    "    x=row.replace(',','')\n",
    "    x=x.split(\" \")\n",
    "    return x[0]\n",
    "\n",
    "\n",
    "def rev_cnt(row):\n",
    "    if row==0:\n",
    "        return 0\n",
    "    x=row.replace(',','')\n",
    "    x=x.split(\" \")\n",
    "    return x[0]"
   ]
  },
  {
   "cell_type": "code",
   "execution_count": 85,
   "metadata": {},
   "outputs": [],
   "source": [
    "df['Pattern'] = df.apply(pattern_fill, axis=1)\n",
    "df['Color'] = df.apply(colour_fill, axis=1)\n",
    "df['Ideal for']='Men'\n",
    "df[\"Pattern\"].fillna(random.choice(patterns), inplace=True)\n",
    "df[\"Color\"].fillna(random.choice(colours), inplace=True)\n",
    "df.Type.fillna('Shirt',inplace=True)\n",
    "fabrics=list(set(df['Fabric']))\n",
    "fabrics.remove(None)\n",
    "df[\"Fabric\"].fillna(random.choice(fabrics), inplace=True)\n",
    "#df.Title=df.Title.str.replace(r'\\(....??\\)','')\n",
    "\n",
    "df.Rating=df.Rating.fillna(-1)\n",
    "df['Price']=df['Price'].apply(lambda x: x[1:]).str.replace(',','').astype(int)\n",
    "\n",
    "df[\"code\"]=df.total.apply(lambda x : x[1])\n",
    "df[\"nlp\"]=df.total.apply(lambda x : x[2])\n",
    "df[\"Stars\"]=df.total.apply(lambda x : x[3])\n",
    "\n",
    "df[\"1 star\"]=df.Stars.apply(lambda x : str(x[0]).replace(',','')).astype(int)\n",
    "df[\"2 stars\"]=df.Stars.apply(lambda x : str(x[1]).replace(',','')).astype(int)\n",
    "df[\"3 stars\"]=df.Stars.apply(lambda x: str(x[2]).replace(',','')).astype(int)\n",
    "df[\"4 stars\"]=df.Stars.apply(lambda x: str(x[3]).replace(',','')).astype(int)\n",
    "df[\"5 stars\"]=df.Stars.apply(lambda x: str(x[4]).replace(',','')).astype(int)\n",
    "\n",
    "\n",
    "df.Reviews.fillna(0, inplace=True)\n",
    "df['Rating count']=df['Reviews'].apply(rat_cnt)\n",
    "df['Review count']=df['Reviews'].apply(rev_cnt)\n",
    "#df[df['Reviews']!=0]['Rating count']=df[df['Reviews']!=0]['Reviews'].apply(lambda x: x.replace(',','').split(' ')[0])\n",
    "#df[df['Reviews']!=0]['Review count']=df[df['Reviews']!=0]['Reviews'].apply(lambda x: x.replace(',','').split(' ')[3])\n",
    "\n",
    "df.drop(\"Stars\",axis=1,inplace=True)\n",
    "df.drop(\"total\",axis=1,inplace=True)"
   ]
  },
  {
   "cell_type": "code",
   "execution_count": 86,
   "metadata": {},
   "outputs": [
    {
     "data": {
      "text/plain": [
       "Title           0\n",
       "Price           0\n",
       "Rating          0\n",
       "Reviews         0\n",
       "Color           0\n",
       "Seller          0\n",
       "Type            0\n",
       "Fabric          0\n",
       "Ideal for       0\n",
       "Pattern         0\n",
       "Url             0\n",
       "code            0\n",
       "nlp             0\n",
       "1 star          0\n",
       "2 stars         0\n",
       "3 stars         0\n",
       "4 stars         0\n",
       "5 stars         0\n",
       "Rating count    0\n",
       "Review count    0\n",
       "dtype: int64"
      ]
     },
     "execution_count": 86,
     "metadata": {},
     "output_type": "execute_result"
    }
   ],
   "source": [
    "df.isnull().sum()"
   ]
  },
  {
   "cell_type": "markdown",
   "metadata": {},
   "source": [
    "types=list(set(df['Type']))\n",
    "types.remove(None)\n",
    "#print(types)\n",
    "def type_fill(row):\n",
    "    y=row.Title\n",
    "    y=y.split(' ')\n",
    "    if y[-1]=='Women':\n",
    "        return None\n",
    "    return y[-1]\n",
    "\n",
    "\n",
    "def type1_fill(row):\n",
    "    if row['Type'] is None:\n",
    "        for type in types:\n",
    "            print(type)\n",
    "            if type in row['Title']:   # Make case-insensitive\n",
    "                return type\n",
    "    else:\n",
    "        return  row['Type']\n",
    "\n",
    "df['Type']=df.apply(type1_fill,axis=1)\n",
    "df.Type.fillna('Coat',inplace=True)"
   ]
  },
  {
   "cell_type": "code",
   "execution_count": 87,
   "metadata": {},
   "outputs": [],
   "source": [
    "df.to_json('data/raymond.json')"
   ]
  },
  {
   "cell_type": "code",
   "execution_count": null,
   "metadata": {},
   "outputs": [],
   "source": []
  }
 ],
 "metadata": {
  "kernelspec": {
   "display_name": "ML_Sep2023_rohan",
   "language": "python",
   "name": "python3"
  },
  "language_info": {
   "codemirror_mode": {
    "name": "ipython",
    "version": 3
   },
   "file_extension": ".py",
   "mimetype": "text/x-python",
   "name": "python",
   "nbconvert_exporter": "python",
   "pygments_lexer": "ipython3",
   "version": "3.11.5"
  }
 },
 "nbformat": 4,
 "nbformat_minor": 2
}
