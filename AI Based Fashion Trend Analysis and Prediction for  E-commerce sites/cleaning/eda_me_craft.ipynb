{
 "cells": [
  {
   "cell_type": "code",
   "execution_count": 17,
   "metadata": {},
   "outputs": [],
   "source": [
    "import pandas as pd\n",
    "import random"
   ]
  },
  {
   "cell_type": "code",
   "execution_count": 18,
   "metadata": {},
   "outputs": [
    {
     "name": "stdout",
     "output_type": "stream",
     "text": [
      "<class 'pandas.core.frame.DataFrame'>\n",
      "Index: 473 entries, 0 to 472\n",
      "Columns: 119 entries, Unnamed: 0 to total\n",
      "dtypes: float64(17), int64(1), object(101)\n",
      "memory usage: 443.4+ KB\n"
     ]
    }
   ],
   "source": [
    "df1=pd.read_json('me_craft.json')\n",
    "df1.info()"
   ]
  },
  {
   "cell_type": "code",
   "execution_count": 19,
   "metadata": {},
   "outputs": [
    {
     "data": {
      "text/plain": [
       "Seller\n",
       "Me Craft             292\n",
       "Marc Laurent           4\n",
       "PACHIMAA               3\n",
       "youlite                2\n",
       "freshbook              2\n",
       "Moderic                2\n",
       "TULSI ENTERPRISES      2\n",
       "EDRIO                  2\n",
       "Be Beas                2\n",
       "ONCH                   2\n",
       "Jade Blue              1\n",
       "YELLOW CHIMES          1\n",
       "UPTOWNTEE              1\n",
       "MUTAQINOTI             1\n",
       "DHEFLI                 1\n",
       "MONDRA FASHION         1\n",
       "DHABUDI                1\n",
       "ISHWARIYA              1\n",
       "REVERSEA               1\n",
       "University Trendz      1\n",
       "Timberwood             1\n",
       "Broke Memers           1\n",
       "Name: count, dtype: int64"
      ]
     },
     "execution_count": 19,
     "metadata": {},
     "output_type": "execute_result"
    }
   ],
   "source": [
    "df1.Seller.value_counts()"
   ]
  },
  {
   "cell_type": "code",
   "execution_count": 20,
   "metadata": {},
   "outputs": [],
   "source": [
    "df=df1[['Title','Price','Rating','Reviews','Color','Seller','Type','Fabric','Ideal for','Pattern','total','Url']]\n",
    "df=df[df.Title.notnull()]\n",
    "df=df[df.Seller=='Me Craft']"
   ]
  },
  {
   "cell_type": "code",
   "execution_count": 21,
   "metadata": {},
   "outputs": [
    {
     "data": {
      "text/plain": [
       "Title          0\n",
       "Price          0\n",
       "Rating        59\n",
       "Reviews       58\n",
       "Color          0\n",
       "Seller         0\n",
       "Type           0\n",
       "Fabric         0\n",
       "Ideal for    292\n",
       "Pattern        1\n",
       "total          0\n",
       "Url            0\n",
       "dtype: int64"
      ]
     },
     "execution_count": 21,
     "metadata": {},
     "output_type": "execute_result"
    }
   ],
   "source": [
    "df.isnull().sum()"
   ]
  },
  {
   "cell_type": "code",
   "execution_count": 22,
   "metadata": {},
   "outputs": [],
   "source": [
    "patterns=list(set(df['Pattern']))\n",
    "if None in patterns:\n",
    "    patterns.remove(None)\n",
    "#unique_patterns = set(patterns)  # Create set outside the function for efficiency\n",
    "def pattern_fill(row):\n",
    "    if row['Pattern'] is None:\n",
    "        for pattern in patterns:\n",
    "            if pattern in row['Title']:\n",
    "                return type\n",
    "        # Handle cases where no match is found (return default, raise error, etc.)\n",
    "    else:\n",
    "        return row['Pattern']\n",
    "\n",
    "\n",
    "colours=list(set(df['Color']))\n",
    "if None in colours:\n",
    "    colours.remove(None)\n",
    "\n",
    "def colour_fill(row):\n",
    "    if row['Color'] is None:\n",
    "        for color in colours:\n",
    "            if color.lower( ) in row['Title'].lower():   # Make case-insensitive\n",
    "                return color\n",
    "    else:\n",
    "        return  row['Color']\n",
    "\n",
    "persons=['Men','Women','Kid','Girl','Boy']\n",
    "def idealfor(row):\n",
    "    for x in persons:\n",
    "        if x in row['Title']:   # Make case-insensitive\n",
    "            return x \n",
    "        \n",
    "\n",
    "\n",
    "def rat_cnt(row):\n",
    "    if row==0:\n",
    "        return 0\n",
    "    x=row.replace(',','')\n",
    "    x=x.split(\" \")\n",
    "    return x[0]\n",
    "\n",
    "\n",
    "def rev_cnt(row):\n",
    "    if row==0:\n",
    "        return 0\n",
    "    x=row.replace(',','')\n",
    "    x=x.split(\" \")\n",
    "    return x[0]"
   ]
  },
  {
   "cell_type": "code",
   "execution_count": 23,
   "metadata": {},
   "outputs": [],
   "source": [
    "df['Pattern'] = df.apply(pattern_fill, axis=1)\n",
    "df['Color'] = df.apply(colour_fill, axis=1)\n",
    "df['Ideal for']=df.apply(idealfor,axis=1)\n",
    "#df['Ideal for'].fillna('Women',inplace=True)\n",
    "df[\"Pattern\"].fillna(random.choice(patterns), inplace=True)\n",
    "df[\"Color\"].fillna(random.choice(colours), inplace=True)\n",
    "fabrics=list(set(df['Fabric']))\n",
    "#if None in fabrics:\n",
    "    #fabrics.remove('None')\n",
    "df[\"Fabric\"].fillna(random.choice(fabrics), inplace=True)\n",
    "#df.Title=df.Title.str.replace(r'\\(....??\\)','')\n",
    "\n",
    "df.Rating=df.Rating.fillna(-1)\n",
    "df['Price']=df['Price'].apply(lambda x: x[1:]).str.replace(',','').astype(int)\n",
    "\n",
    "df[\"code\"]=df.total.apply(lambda x : x[1])\n",
    "df[\"nlp\"]=df.total.apply(lambda x : x[2])\n",
    "df[\"Stars\"]=df.total.apply(lambda x : x[3])\n",
    "\n",
    "df[\"1 star\"]=df.Stars.apply(lambda x : str(x[0]).replace(',','')).astype(int)\n",
    "df[\"2 stars\"]=df.Stars.apply(lambda x : str(x[1]).replace(',','')).astype(int)\n",
    "df[\"3 stars\"]=df.Stars.apply(lambda x: str(x[2]).replace(',','')).astype(int)\n",
    "df[\"4 stars\"]=df.Stars.apply(lambda x: str(x[3]).replace(',','')).astype(int)\n",
    "df[\"5 stars\"]=df.Stars.apply(lambda x: str(x[4]).replace(',','')).astype(int)\n",
    "\n",
    "\n",
    "df.Reviews.fillna(0, inplace=True)\n",
    "df['Rating count']=df['Reviews'].apply(rat_cnt)\n",
    "df['Review count']=df['Reviews'].apply(rev_cnt)\n",
    "#df[df['Reviews']!=0]['Rating count']=df[df['Reviews']!=0]['Reviews'].apply(lambda x: x.replace(',','').split(' ')[0])\n",
    "#df[df['Reviews']!=0]['Review count']=df[df['Reviews']!=0]['Reviews'].apply(lambda x: x.replace(',','').split(' ')[3])\n",
    "\n",
    "df.drop(\"Stars\",axis=1,inplace=True)\n",
    "df.drop(\"total\",axis=1,inplace=True)"
   ]
  },
  {
   "cell_type": "code",
   "execution_count": 24,
   "metadata": {},
   "outputs": [
    {
     "data": {
      "text/plain": [
       "Title           0\n",
       "Price           0\n",
       "Rating          0\n",
       "Reviews         0\n",
       "Color           0\n",
       "Seller          0\n",
       "Type            0\n",
       "Fabric          0\n",
       "Ideal for       0\n",
       "Pattern         0\n",
       "Url             0\n",
       "code            0\n",
       "nlp             0\n",
       "1 star          0\n",
       "2 stars         0\n",
       "3 stars         0\n",
       "4 stars         0\n",
       "5 stars         0\n",
       "Rating count    0\n",
       "Review count    0\n",
       "dtype: int64"
      ]
     },
     "execution_count": 24,
     "metadata": {},
     "output_type": "execute_result"
    }
   ],
   "source": [
    "df.isnull().sum()"
   ]
  },
  {
   "cell_type": "markdown",
   "metadata": {},
   "source": [
    "types=list(set(df['Type']))\n",
    "types.remove(None)\n",
    "#print(types)\n",
    "def type_fill(row):\n",
    "    y=row.Title\n",
    "    y=y.split(' ')\n",
    "    if y[-1]=='Women':\n",
    "        return None\n",
    "    return y[-1]\n",
    "\n",
    "\n",
    "def type1_fill(row):\n",
    "    if row['Type'] is None:\n",
    "        for type in types:\n",
    "            print(type)\n",
    "            if type in row['Title']:   # Make case-insensitive\n",
    "                return type\n",
    "    else:\n",
    "        return  row['Type']\n",
    "\n",
    "df['Type']=df.apply(type1_fill,axis=1)\n",
    "df.Type.fillna('Coat',inplace=True)"
   ]
  },
  {
   "cell_type": "code",
   "execution_count": 25,
   "metadata": {},
   "outputs": [],
   "source": [
    "types=list(set(df['Type']))\n",
    "if None in types:\n",
    "    types.remove(None)\n",
    "#print(types)\n",
    "def type_fill(row):\n",
    "    z=row.Title\n",
    "    y=z.split(' ')\n",
    "    if 'Kurta' in z:\n",
    "        return 'Kurta'\n",
    "    elif 'Blazer' in z:\n",
    "        return 'Blazer'\n",
    "    elif 'Top' in z:\n",
    "        return 'Top'\n",
    "    elif 'Jacket' in z:\n",
    "        return 'Jacket'\n",
    "    elif 'Lehenga' in z:\n",
    "        return 'Lehenga'\n",
    "    elif 'Night' in z:\n",
    "        return 'Night Suit'\n",
    "    elif 'Men' in y[-1]:\n",
    "        return 'Shoes'\n",
    "    elif 'Women' in y[-1]:\n",
    "        return 'Boots'\n",
    "    elif 'Shoes' in z:\n",
    "        return 'Shoes'\n",
    "    return y[-1]\n",
    "\n",
    "\n",
    "def type1_fill(row):\n",
    "    if row['Type'] is None:\n",
    "        for type in types:\n",
    "            #print(type)\n",
    "            if type in row['Title']:   # Make case-insensitive\n",
    "                return type\n",
    "    else:\n",
    "        return  row['Type']\n",
    "df.Type=df.apply(type_fill,axis=1)"
   ]
  },
  {
   "cell_type": "code",
   "execution_count": 26,
   "metadata": {},
   "outputs": [],
   "source": [
    "df.to_json('data/me_craft.json')"
   ]
  },
  {
   "cell_type": "code",
   "execution_count": 27,
   "metadata": {},
   "outputs": [
    {
     "data": {
      "text/plain": [
       "Type\n",
       "Trousers    191\n",
       "Top          43\n",
       "Shorts       42\n",
       "Jumpsuit     15\n",
       "Skirt         1\n",
       "Name: count, dtype: int64"
      ]
     },
     "execution_count": 27,
     "metadata": {},
     "output_type": "execute_result"
    }
   ],
   "source": [
    "df.Type.value_counts()\n",
    "#df[df.Type=='Dress']"
   ]
  },
  {
   "cell_type": "code",
   "execution_count": 28,
   "metadata": {},
   "outputs": [
    {
     "data": {
      "text/plain": [
       "Title           0\n",
       "Price           0\n",
       "Rating          0\n",
       "Reviews         0\n",
       "Color           0\n",
       "Seller          0\n",
       "Type            0\n",
       "Fabric          0\n",
       "Ideal for       0\n",
       "Pattern         0\n",
       "Url             0\n",
       "code            0\n",
       "nlp             0\n",
       "1 star          0\n",
       "2 stars         0\n",
       "3 stars         0\n",
       "4 stars         0\n",
       "5 stars         0\n",
       "Rating count    0\n",
       "Review count    0\n",
       "dtype: int64"
      ]
     },
     "execution_count": 28,
     "metadata": {},
     "output_type": "execute_result"
    }
   ],
   "source": [
    "df.isnull().sum()"
   ]
  },
  {
   "cell_type": "code",
   "execution_count": null,
   "metadata": {},
   "outputs": [],
   "source": []
  }
 ],
 "metadata": {
  "kernelspec": {
   "display_name": "ML_Sep2023_rohan",
   "language": "python",
   "name": "python3"
  },
  "language_info": {
   "codemirror_mode": {
    "name": "ipython",
    "version": 3
   },
   "file_extension": ".py",
   "mimetype": "text/x-python",
   "name": "python",
   "nbconvert_exporter": "python",
   "pygments_lexer": "ipython3",
   "version": "3.11.5"
  }
 },
 "nbformat": 4,
 "nbformat_minor": 2
}
