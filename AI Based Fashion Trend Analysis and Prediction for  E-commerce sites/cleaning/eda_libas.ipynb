{
 "cells": [
  {
   "cell_type": "code",
   "execution_count": 62,
   "metadata": {},
   "outputs": [],
   "source": [
    "import pandas as pd\n",
    "import random"
   ]
  },
  {
   "cell_type": "code",
   "execution_count": 63,
   "metadata": {},
   "outputs": [
    {
     "name": "stdout",
     "output_type": "stream",
     "text": [
      "<class 'pandas.core.frame.DataFrame'>\n",
      "Index: 986 entries, 0 to 985\n",
      "Data columns (total 75 columns):\n",
      " #   Column                               Non-Null Count  Dtype  \n",
      "---  ------                               --------------  -----  \n",
      " 0   Unnamed: 0                           986 non-null    int64  \n",
      " 1   Title                                985 non-null    object \n",
      " 2   Price                                985 non-null    object \n",
      " 3   Rating                               904 non-null    float64\n",
      " 4   Reviews                              908 non-null    object \n",
      " 5   Url                                  986 non-null    object \n",
      " 6   Seller                               985 non-null    object \n",
      " 7   Ideal For                            373 non-null    object \n",
      " 8   Length Type                          289 non-null    object \n",
      " 9   Brand Color                          284 non-null    object \n",
      " 10  Occasion                             436 non-null    object \n",
      " 11  Pattern                              983 non-null    object \n",
      " 12  Type                                 863 non-null    object \n",
      " 13  Fabric                               974 non-null    object \n",
      " 14  Neck                                 348 non-null    object \n",
      " 15  Sleeve                               363 non-null    object \n",
      " 16  Color                                913 non-null    object \n",
      " 17  Number of Contents in Sales Package  301 non-null    object \n",
      " 18  Fabric Care                          178 non-null    object \n",
      " 19  Style Code                           915 non-null    object \n",
      " 20  Package contains                     57 non-null     object \n",
      " 21  Net Quantity                         451 non-null    object \n",
      " 22  Sales Package                        567 non-null    object \n",
      " 23  Top type                             499 non-null    object \n",
      " 24  Bottom type                          466 non-null    object \n",
      " 25  Season                               215 non-null    object \n",
      " 26  Pockets                              43 non-null     object \n",
      " 27  Secondary color                      78 non-null     object \n",
      " 28  Top fabric                           97 non-null     object \n",
      " 29  Bottom fabric                        98 non-null     object \n",
      " 30  Fabric care                          108 non-null    object \n",
      " 31  Lining material                      27 non-null     object \n",
      " 32  Series                               14 non-null     object \n",
      " 33  Knit type                            8 non-null      object \n",
      " 34  Fit                                  105 non-null    object \n",
      " 35  Pack of                              100 non-null    float64\n",
      " 36  Suitable For                         105 non-null    object \n",
      " 37  Belt Loops                           33 non-null     object \n",
      " 38  Rise                                 36 non-null     object \n",
      " 39  Unnamed: 39                          28 non-null     object \n",
      " 40  Closure                              39 non-null     object \n",
      " 41  Model Name                           13 non-null     object \n",
      " 42  Number of contents in Sales Package  3 non-null      object \n",
      " 43  Neck Type                            49 non-null     object \n",
      " 44  Size                                 61 non-null     object \n",
      " 45  Reversible                           62 non-null     object \n",
      " 46  Secondary Color                      14 non-null     object \n",
      " 47  Other Details                        31 non-null     object \n",
      " 48  Number of Shorts                     12 non-null     float64\n",
      " 49  Brand                                12 non-null     object \n",
      " 50  Style code                           12 non-null     object \n",
      " 51  Brand color                          12 non-null     object \n",
      " 52  Ideal for                            12 non-null     object \n",
      " 53  Primary color                        12 non-null     object \n",
      " 54  Occassion                            12 non-null     object \n",
      " 55  Suitable for                         12 non-null     object \n",
      " 56  Belt included                        12 non-null     object \n",
      " 57  Character                            12 non-null     object \n",
      " 58  Group ID                             12 non-null     object \n",
      " 59  Fabric details                       12 non-null     object \n",
      " 60  Hooded                               6 non-null      object \n",
      " 61  Collar                               7 non-null      object \n",
      " 62  Length                               2 non-null      object \n",
      " 63  Lehenga Fabric                       11 non-null     object \n",
      " 64  Choli Fabric                         1 non-null      object \n",
      " 65  Dupatta Fabric                       1 non-null      object \n",
      " 66  Embroidered                          1 non-null      object \n",
      " 67  Lining Type                          1 non-null      object \n",
      " 68  Dupatta                              11 non-null     object \n",
      " 69  Stitching Type                       11 non-null     object \n",
      " 70  Sleeve Length                        1 non-null      object \n",
      " 71  Age Group                            1 non-null      object \n",
      " 72  Inseam Length                        2 non-null      object \n",
      " 73  Pleats                               2 non-null      object \n",
      " 74  total                                986 non-null    object \n",
      "dtypes: float64(3), int64(1), object(71)\n",
      "memory usage: 585.4+ KB\n"
     ]
    }
   ],
   "source": [
    "df1=pd.read_json('libas.json')\n",
    "df1.info()"
   ]
  },
  {
   "cell_type": "code",
   "execution_count": 64,
   "metadata": {},
   "outputs": [],
   "source": [
    "df=df1[['Title','Price','Rating','Reviews','Color','Seller','Type','Fabric','Ideal for','Pattern','total','Url']]\n",
    "df=df[df.Title.notnull()]\n",
    "df=df[df.Seller=='LIBAS']"
   ]
  },
  {
   "cell_type": "code",
   "execution_count": 65,
   "metadata": {},
   "outputs": [
    {
     "data": {
      "text/plain": [
       "Title          0\n",
       "Price          0\n",
       "Rating        81\n",
       "Reviews       77\n",
       "Color         11\n",
       "Seller         0\n",
       "Type          82\n",
       "Fabric        11\n",
       "Ideal for    845\n",
       "Pattern        2\n",
       "total          0\n",
       "Url            0\n",
       "dtype: int64"
      ]
     },
     "execution_count": 65,
     "metadata": {},
     "output_type": "execute_result"
    }
   ],
   "source": [
    "df.isnull().sum()"
   ]
  },
  {
   "cell_type": "code",
   "execution_count": 66,
   "metadata": {},
   "outputs": [],
   "source": [
    "patterns=list(set(df['Pattern']))\n",
    "patterns.remove(None)\n",
    "#unique_patterns = set(patterns)  # Create set outside the function for efficiency\n",
    "def pattern_fill(row):\n",
    "    if row['Pattern'] is None:\n",
    "        for pattern in patterns:\n",
    "            if pattern in row['Title']:\n",
    "                return type\n",
    "        # Handle cases where no match is found (return default, raise error, etc.)\n",
    "    else:\n",
    "        return row['Pattern']\n",
    "\n",
    "\n",
    "colours=list(set(df['Color']))\n",
    "colours.remove(None)\n",
    "\n",
    "def colour_fill(row):\n",
    "    if row['Color'] is None:\n",
    "        for color in colours:\n",
    "            if color.lower( ) in row['Title'].lower():   # Make case-insensitive\n",
    "                return color\n",
    "    else:\n",
    "        return  row['Color']\n",
    "\n",
    "persons=['Men','Women','Kid','Girl','Boy']\n",
    "def idealfor(row):\n",
    "    for x in persons:\n",
    "        if x.lower( ) in row['Title'].lower():   # Make case-insensitive\n",
    "            return x \n",
    "        \n",
    "\n",
    "\n",
    "def rat_cnt(row):\n",
    "    if row==0:\n",
    "        return 0\n",
    "    x=row.replace(',','')\n",
    "    x=x.split(\" \")\n",
    "    return x[0]\n",
    "\n",
    "\n",
    "def rev_cnt(row):\n",
    "    if row==0:\n",
    "        return 0\n",
    "    x=row.replace(',','')\n",
    "    x=x.split(\" \")\n",
    "    return x[0]"
   ]
  },
  {
   "cell_type": "code",
   "execution_count": 67,
   "metadata": {},
   "outputs": [],
   "source": [
    "df['Pattern'] = df.apply(pattern_fill, axis=1)\n",
    "df['Color'] = df.apply(colour_fill, axis=1)\n",
    "df['Ideal for']=df.apply(idealfor,axis=1)\n",
    "df['Ideal for'].fillna('Women',inplace=True)\n",
    "df[\"Pattern\"].fillna(random.choice(patterns), inplace=True)\n",
    "df[\"Color\"].fillna(random.choice(colours), inplace=True)\n",
    "fabrics=list(set(df['Fabric']))\n",
    "#fabrics.remove('None')\n",
    "df[\"Fabric\"].fillna(random.choice(fabrics), inplace=True)\n",
    "#df.Title=df.Title.str.replace(r'\\(....??\\)','')\n",
    "\n",
    "df.Rating=df.Rating.fillna(-1)\n",
    "df['Price']=df['Price'].apply(lambda x: x[1:]).str.replace(',','').astype(int)\n",
    "\n",
    "df[\"code\"]=df.total.apply(lambda x : x[1])\n",
    "df[\"nlp\"]=df.total.apply(lambda x : x[2])\n",
    "df[\"Stars\"]=df.total.apply(lambda x : x[3])\n",
    "\n",
    "df[\"1 star\"]=df.Stars.apply(lambda x : str(x[0]).replace(',','')).astype(int)\n",
    "df[\"2 stars\"]=df.Stars.apply(lambda x : str(x[1]).replace(',','')).astype(int)\n",
    "df[\"3 stars\"]=df.Stars.apply(lambda x: str(x[2]).replace(',','')).astype(int)\n",
    "df[\"4 stars\"]=df.Stars.apply(lambda x: str(x[3]).replace(',','')).astype(int)\n",
    "df[\"5 stars\"]=df.Stars.apply(lambda x: str(x[4]).replace(',','')).astype(int)\n",
    "\n",
    "\n",
    "df.Reviews.fillna(0, inplace=True)\n",
    "df['Rating count']=df['Reviews'].apply(rat_cnt)\n",
    "df['Review count']=df['Reviews'].apply(rev_cnt)\n",
    "#df[df['Reviews']!=0]['Rating count']=df[df['Reviews']!=0]['Reviews'].apply(lambda x: x.replace(',','').split(' ')[0])\n",
    "#df[df['Reviews']!=0]['Review count']=df[df['Reviews']!=0]['Reviews'].apply(lambda x: x.replace(',','').split(' ')[3])\n",
    "\n",
    "df.drop(\"Stars\",axis=1,inplace=True)\n",
    "df.drop(\"total\",axis=1,inplace=True)"
   ]
  },
  {
   "cell_type": "code",
   "execution_count": 74,
   "metadata": {},
   "outputs": [
    {
     "data": {
      "text/plain": [
       "Title           0\n",
       "Price           0\n",
       "Rating          0\n",
       "Reviews         0\n",
       "Color           0\n",
       "Seller          0\n",
       "Type            0\n",
       "Fabric          0\n",
       "Ideal for       0\n",
       "Pattern         0\n",
       "Url             0\n",
       "code            0\n",
       "nlp             0\n",
       "1 star          0\n",
       "2 stars         0\n",
       "3 stars         0\n",
       "4 stars         0\n",
       "5 stars         0\n",
       "Rating count    0\n",
       "Review count    0\n",
       "dtype: int64"
      ]
     },
     "execution_count": 74,
     "metadata": {},
     "output_type": "execute_result"
    }
   ],
   "source": [
    "df.isnull().sum()"
   ]
  },
  {
   "cell_type": "markdown",
   "metadata": {},
   "source": [
    "types=list(set(df['Type']))\n",
    "types.remove(None)\n",
    "#print(types)\n",
    "def type_fill(row):\n",
    "    y=row.Title\n",
    "    y=y.split(' ')\n",
    "    if y[-1]=='Women':\n",
    "        return None\n",
    "    return y[-1]\n",
    "\n",
    "\n",
    "def type1_fill(row):\n",
    "    if row['Type'] is None:\n",
    "        for type in types:\n",
    "            print(type)\n",
    "            if type in row['Title']:   # Make case-insensitive\n",
    "                return type\n",
    "    else:\n",
    "        return  row['Type']\n",
    "\n",
    "df['Type']=df.apply(type1_fill,axis=1)\n",
    "df.Type.fillna('Coat',inplace=True)"
   ]
  },
  {
   "cell_type": "code",
   "execution_count": 69,
   "metadata": {},
   "outputs": [],
   "source": [
    "types=list(set(df['Type']))\n",
    "types.remove(None)\n",
    "#print(types)\n",
    "def type_fill(row):\n",
    "    z=row.Title\n",
    "    y=z.split(' ')\n",
    "    if 'Kurta' in z:\n",
    "        return 'Kurta'\n",
    "    elif 'Blazer' in z:\n",
    "        return 'Blazer'\n",
    "    elif 'Top' in z:\n",
    "        return 'Top'\n",
    "    elif 'Jacket' in z:\n",
    "        return 'Jacket'\n",
    "    elif 'Lehenga' in z:\n",
    "        return 'Lehenga'\n",
    "    elif 'Night' in z:\n",
    "        return 'Night Suit'\n",
    "    return y[-1]\n",
    "\n",
    "\n",
    "def type1_fill(row):\n",
    "    if row['Type'] is None:\n",
    "        for type in types:\n",
    "            #print(type)\n",
    "            if type in row['Title']:   # Make case-insensitive\n",
    "                return type\n",
    "    else:\n",
    "        return  row['Type']\n",
    "df.Type=df.apply(type_fill,axis=1)"
   ]
  },
  {
   "cell_type": "code",
   "execution_count": 70,
   "metadata": {},
   "outputs": [],
   "source": [
    "df.to_json('data/libas.json')"
   ]
  },
  {
   "cell_type": "code",
   "execution_count": 72,
   "metadata": {},
   "outputs": [
    {
     "data": {
      "text/plain": [
       "Type\n",
       "Kurta         769\n",
       "Trousers       39\n",
       "Top            13\n",
       "Lehenga        11\n",
       "Night Suit      6\n",
       "Dress           2\n",
       "Set             2\n",
       "Skirt           2\n",
       "Salwar          1\n",
       "Name: count, dtype: int64"
      ]
     },
     "execution_count": 72,
     "metadata": {},
     "output_type": "execute_result"
    }
   ],
   "source": [
    "df.Type.value_counts()"
   ]
  },
  {
   "cell_type": "code",
   "execution_count": null,
   "metadata": {},
   "outputs": [],
   "source": []
  }
 ],
 "metadata": {
  "kernelspec": {
   "display_name": "ML_Sep2023_rohan",
   "language": "python",
   "name": "python3"
  },
  "language_info": {
   "codemirror_mode": {
    "name": "ipython",
    "version": 3
   },
   "file_extension": ".py",
   "mimetype": "text/x-python",
   "name": "python",
   "nbconvert_exporter": "python",
   "pygments_lexer": "ipython3",
   "version": "3.11.5"
  }
 },
 "nbformat": 4,
 "nbformat_minor": 2
}
